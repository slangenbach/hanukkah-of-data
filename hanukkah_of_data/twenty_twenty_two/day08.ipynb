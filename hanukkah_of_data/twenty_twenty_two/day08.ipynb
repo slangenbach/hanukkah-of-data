{
 "cells": [
  {
   "attachments": {},
   "cell_type": "markdown",
   "metadata": {},
   "source": [
    "# Hanukkah of Data: Day 08\n",
    "\n",
    "We are looking for the phone number of a man, who's a customer of Noah's, lives in Manhatten and owns an entire set of collectibles."
   ]
  },
  {
   "attachments": {},
   "cell_type": "markdown",
   "metadata": {},
   "source": [
    "## Setup"
   ]
  },
  {
   "cell_type": "code",
   "execution_count": 1,
   "metadata": {},
   "outputs": [],
   "source": [
    "import pandas as pd\n",
    "\n",
    "from hanukkah_of_data.utils import load_data"
   ]
  },
  {
   "attachments": {},
   "cell_type": "markdown",
   "metadata": {},
   "source": [
    "## Load data"
   ]
  },
  {
   "cell_type": "code",
   "execution_count": 2,
   "metadata": {},
   "outputs": [],
   "source": [
    "dfs = load_data()"
   ]
  },
  {
   "cell_type": "code",
   "execution_count": 3,
   "metadata": {},
   "outputs": [],
   "source": [
    "customer_df = dfs[\"customers\"]\n",
    "orders_df = dfs[\"orders\"]\n",
    "items_df = dfs[\"orders_items\"]\n",
    "products_df = dfs[\"products\"]"
   ]
  },
  {
   "attachments": {},
   "cell_type": "markdown",
   "metadata": {},
   "source": [
    "## Solve puzzle"
   ]
  },
  {
   "cell_type": "code",
   "execution_count": 24,
   "metadata": {},
   "outputs": [],
   "source": [
    "candidates_df = customer_df.loc[customer_df[\"citystatezip\"].str.contains(\"Manhattan\")]"
   ]
  },
  {
   "cell_type": "code",
   "execution_count": 14,
   "metadata": {},
   "outputs": [
    {
     "data": {
      "text/html": [
       "<div>\n",
       "<style scoped>\n",
       "    .dataframe tbody tr th:only-of-type {\n",
       "        vertical-align: middle;\n",
       "    }\n",
       "\n",
       "    .dataframe tbody tr th {\n",
       "        vertical-align: top;\n",
       "    }\n",
       "\n",
       "    .dataframe thead th {\n",
       "        text-align: right;\n",
       "    }\n",
       "</style>\n",
       "<table border=\"1\" class=\"dataframe\">\n",
       "  <thead>\n",
       "    <tr style=\"text-align: right;\">\n",
       "      <th></th>\n",
       "      <th>sku</th>\n",
       "      <th>desc</th>\n",
       "      <th>wholesale_cost</th>\n",
       "    </tr>\n",
       "  </thead>\n",
       "  <tbody>\n",
       "    <tr>\n",
       "      <th>9</th>\n",
       "      <td>TOY0085</td>\n",
       "      <td>Noah's Toy Soldier</td>\n",
       "      <td>11.96</td>\n",
       "    </tr>\n",
       "    <tr>\n",
       "      <th>30</th>\n",
       "      <td>COL0263</td>\n",
       "      <td>Noah's Jersey (orange)</td>\n",
       "      <td>21.08</td>\n",
       "    </tr>\n",
       "    <tr>\n",
       "      <th>38</th>\n",
       "      <td>COL0295</td>\n",
       "      <td>Noah's Jersey (red)</td>\n",
       "      <td>15.42</td>\n",
       "    </tr>\n",
       "    <tr>\n",
       "      <th>53</th>\n",
       "      <td>COL0464</td>\n",
       "      <td>Noah's Action Figure (magenta)</td>\n",
       "      <td>23.93</td>\n",
       "    </tr>\n",
       "    <tr>\n",
       "      <th>68</th>\n",
       "      <td>COL0638</td>\n",
       "      <td>Noah's Jewelry (purple)</td>\n",
       "      <td>43.98</td>\n",
       "    </tr>\n",
       "    <tr>\n",
       "      <th>...</th>\n",
       "      <td>...</td>\n",
       "      <td>...</td>\n",
       "      <td>...</td>\n",
       "    </tr>\n",
       "    <tr>\n",
       "      <th>1084</th>\n",
       "      <td>TOY9571</td>\n",
       "      <td>Noah's Stickers</td>\n",
       "      <td>1.13</td>\n",
       "    </tr>\n",
       "    <tr>\n",
       "      <th>1091</th>\n",
       "      <td>COL9688</td>\n",
       "      <td>Noah's Bobblehead (azure)</td>\n",
       "      <td>11.42</td>\n",
       "    </tr>\n",
       "    <tr>\n",
       "      <th>1092</th>\n",
       "      <td>COL9689</td>\n",
       "      <td>Noah's Jewelry (azure)</td>\n",
       "      <td>62.01</td>\n",
       "    </tr>\n",
       "    <tr>\n",
       "      <th>1109</th>\n",
       "      <td>TOY9830</td>\n",
       "      <td>Noah's Yoyo</td>\n",
       "      <td>5.63</td>\n",
       "    </tr>\n",
       "    <tr>\n",
       "      <th>1110</th>\n",
       "      <td>COL9842</td>\n",
       "      <td>Noah's Gift Box (orange)</td>\n",
       "      <td>5.66</td>\n",
       "    </tr>\n",
       "  </tbody>\n",
       "</table>\n",
       "<p>96 rows × 3 columns</p>\n",
       "</div>"
      ],
      "text/plain": [
       "          sku                            desc  wholesale_cost\n",
       "9     TOY0085              Noah's Toy Soldier           11.96\n",
       "30    COL0263          Noah's Jersey (orange)           21.08\n",
       "38    COL0295             Noah's Jersey (red)           15.42\n",
       "53    COL0464  Noah's Action Figure (magenta)           23.93\n",
       "68    COL0638         Noah's Jewelry (purple)           43.98\n",
       "...       ...                             ...             ...\n",
       "1084  TOY9571                 Noah's Stickers            1.13\n",
       "1091  COL9688       Noah's Bobblehead (azure)           11.42\n",
       "1092  COL9689          Noah's Jewelry (azure)           62.01\n",
       "1109  TOY9830                     Noah's Yoyo            5.63\n",
       "1110  COL9842        Noah's Gift Box (orange)            5.66\n",
       "\n",
       "[96 rows x 3 columns]"
      ]
     },
     "execution_count": 14,
     "metadata": {},
     "output_type": "execute_result"
    }
   ],
   "source": [
    "products_df.loc[products_df.desc.str.startswith(\"Noah's\")]"
   ]
  },
  {
   "cell_type": "code",
   "execution_count": 25,
   "metadata": {},
   "outputs": [],
   "source": [
    "merged_df = (\n",
    "    candidates_df.merge(orders_df, how=\"inner\", on=\"customerid\")\n",
    "    .merge(items_df, how=\"left\", on=\"orderid\")\n",
    "    .merge(products_df, how=\"left\", on=\"sku\")\n",
    ")"
   ]
  },
  {
   "cell_type": "code",
   "execution_count": 26,
   "metadata": {},
   "outputs": [
    {
     "name": "stdout",
     "output_type": "stream",
     "text": [
      "<class 'pandas.core.frame.DataFrame'>\n",
      "Int64Index: 200691 entries, 0 to 200690\n",
      "Data columns (total 16 columns):\n",
      " #   Column          Non-Null Count   Dtype         \n",
      "---  ------          --------------   -----         \n",
      " 0   customerid      200691 non-null  int64         \n",
      " 1   name            200691 non-null  string        \n",
      " 2   address         200691 non-null  string        \n",
      " 3   citystatezip    200691 non-null  string        \n",
      " 4   birthdate       200691 non-null  datetime64[ns]\n",
      " 5   phone           200691 non-null  string        \n",
      " 6   orderid         200691 non-null  int64         \n",
      " 7   ordered         200691 non-null  datetime64[ns]\n",
      " 8   shipped         200691 non-null  datetime64[ns]\n",
      " 9   items           0 non-null       float64       \n",
      " 10  total           200691 non-null  float64       \n",
      " 11  sku             200691 non-null  string        \n",
      " 12  qty             200691 non-null  int64         \n",
      " 13  unit_price      200691 non-null  float64       \n",
      " 14  desc            200691 non-null  string        \n",
      " 15  wholesale_cost  200691 non-null  float64       \n",
      "dtypes: datetime64[ns](3), float64(4), int64(3), string(6)\n",
      "memory usage: 26.0 MB\n"
     ]
    }
   ],
   "source": [
    "merged_df.info()"
   ]
  },
  {
   "cell_type": "code",
   "execution_count": 31,
   "metadata": {},
   "outputs": [
    {
     "data": {
      "text/plain": [
       "name             phone       \n",
       "Travis Bartlett  929-906-5980    230\n",
       "Joshua Smith     914-243-3254     35\n",
       "Megan Poole      585-479-7947     34\n",
       "Justin Jimenez   516-722-4758     33\n",
       "Chelsea Marsh    315-565-2714     30\n",
       "Name: desc, dtype: int64"
      ]
     },
     "execution_count": 31,
     "metadata": {},
     "output_type": "execute_result"
    }
   ],
   "source": [
    "merged_df.loc[merged_df[\"desc\"].str.startswith(\"Noah's\")].groupby([\"name\", \"phone\"])[\n",
    "    \"desc\"\n",
    "].count().sort_values(ascending=False).nlargest(5)"
   ]
  }
 ],
 "metadata": {
  "kernelspec": {
   "display_name": "hanukkah-of-data-lQob2YbU-py3.10",
   "language": "python",
   "name": "python3"
  },
  "language_info": {
   "codemirror_mode": {
    "name": "ipython",
    "version": 3
   },
   "file_extension": ".py",
   "mimetype": "text/x-python",
   "name": "python",
   "nbconvert_exporter": "python",
   "pygments_lexer": "ipython3",
   "version": "3.10.4"
  },
  "orig_nbformat": 4,
  "vscode": {
   "interpreter": {
    "hash": "ec53ee0cba7468122bf9c4ab8b29b790e24bd9502907848a5f1124e6ee7c3f3e"
   }
  }
 },
 "nbformat": 4,
 "nbformat_minor": 2
}
