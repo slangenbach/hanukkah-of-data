{
 "cells": [
  {
   "attachments": {},
   "cell_type": "markdown",
   "metadata": {},
   "source": [
    "# Hanukkah of Data: Day 05\n",
    "\n",
    "We are looking for the phone number of a woman from Queens Village owning up to 11 old cats who is a customer of Noah's."
   ]
  },
  {
   "attachments": {},
   "cell_type": "markdown",
   "metadata": {},
   "source": [
    "## Setup"
   ]
  },
  {
   "cell_type": "code",
   "execution_count": 1,
   "metadata": {},
   "outputs": [],
   "source": [
    "import pandas as pd\n",
    "\n",
    "from hanukkah_of_data.utils import load_data"
   ]
  },
  {
   "attachments": {},
   "cell_type": "markdown",
   "metadata": {},
   "source": [
    "## Load data"
   ]
  },
  {
   "cell_type": "code",
   "execution_count": 2,
   "metadata": {},
   "outputs": [],
   "source": [
    "dfs = load_data()"
   ]
  },
  {
   "cell_type": "code",
   "execution_count": 19,
   "metadata": {},
   "outputs": [],
   "source": [
    "customers_df = dfs[\"customers\"]\n",
    "orders_df = dfs[\"orders\"]\n",
    "items_df = dfs[\"orders_items\"]\n",
    "products_df = dfs[\"products\"]"
   ]
  },
  {
   "attachments": {},
   "cell_type": "markdown",
   "metadata": {},
   "source": [
    "## Solve puzzle"
   ]
  },
  {
   "cell_type": "code",
   "execution_count": 11,
   "metadata": {},
   "outputs": [],
   "source": [
    "candidates_df = customers_df.loc[\n",
    "    customers_df[\"citystatezip\"].str.contains(\"Queens Village\")\n",
    "]"
   ]
  },
  {
   "cell_type": "code",
   "execution_count": 20,
   "metadata": {},
   "outputs": [],
   "source": [
    "merged_df = (\n",
    "    candidates_df.merge(orders_df, how=\"left\", on=\"customerid\")\n",
    "    .merge(items_df, how=\"left\", on=\"orderid\")\n",
    "    .merge(products_df, how=\"left\", on=\"sku\")\n",
    ")"
   ]
  },
  {
   "cell_type": "code",
   "execution_count": 21,
   "metadata": {},
   "outputs": [
    {
     "name": "stdout",
     "output_type": "stream",
     "text": [
      "<class 'pandas.core.frame.DataFrame'>\n",
      "Int64Index: 109 entries, 0 to 108\n",
      "Data columns (total 16 columns):\n",
      " #   Column          Non-Null Count  Dtype         \n",
      "---  ------          --------------  -----         \n",
      " 0   customerid      109 non-null    int64         \n",
      " 1   name            109 non-null    string        \n",
      " 2   address         109 non-null    string        \n",
      " 3   citystatezip    109 non-null    string        \n",
      " 4   birthdate       109 non-null    datetime64[ns]\n",
      " 5   phone           109 non-null    string        \n",
      " 6   orderid         60 non-null     float64       \n",
      " 7   ordered         60 non-null     datetime64[ns]\n",
      " 8   shipped         60 non-null     datetime64[ns]\n",
      " 9   items           0 non-null      float64       \n",
      " 10  total           60 non-null     float64       \n",
      " 11  sku             60 non-null     string        \n",
      " 12  qty             60 non-null     float64       \n",
      " 13  unit_price      60 non-null     float64       \n",
      " 14  desc            60 non-null     string        \n",
      " 15  wholesale_cost  60 non-null     float64       \n",
      "dtypes: datetime64[ns](3), float64(6), int64(1), string(6)\n",
      "memory usage: 14.5 KB\n"
     ]
    }
   ],
   "source": [
    "merged_df.info()"
   ]
  },
  {
   "cell_type": "code",
   "execution_count": 27,
   "metadata": {},
   "outputs": [
    {
     "data": {
      "text/html": [
       "<div>\n",
       "<style scoped>\n",
       "    .dataframe tbody tr th:only-of-type {\n",
       "        vertical-align: middle;\n",
       "    }\n",
       "\n",
       "    .dataframe tbody tr th {\n",
       "        vertical-align: top;\n",
       "    }\n",
       "\n",
       "    .dataframe thead th {\n",
       "        text-align: right;\n",
       "    }\n",
       "</style>\n",
       "<table border=\"1\" class=\"dataframe\">\n",
       "  <thead>\n",
       "    <tr style=\"text-align: right;\">\n",
       "      <th></th>\n",
       "      <th></th>\n",
       "      <th>total</th>\n",
       "    </tr>\n",
       "    <tr>\n",
       "      <th>name</th>\n",
       "      <th>phone</th>\n",
       "      <th></th>\n",
       "    </tr>\n",
       "  </thead>\n",
       "  <tbody>\n",
       "    <tr>\n",
       "      <th>Anita Koch</th>\n",
       "      <th>315-492-7411</th>\n",
       "      <td>17</td>\n",
       "    </tr>\n",
       "    <tr>\n",
       "      <th>Jose Cook</th>\n",
       "      <th>516-745-9461</th>\n",
       "      <td>1</td>\n",
       "    </tr>\n",
       "    <tr>\n",
       "      <th>Joseph Weaver</th>\n",
       "      <th>680-839-3746</th>\n",
       "      <td>1</td>\n",
       "    </tr>\n",
       "    <tr>\n",
       "      <th>Justin Cochran</th>\n",
       "      <th>716-525-5173</th>\n",
       "      <td>1</td>\n",
       "    </tr>\n",
       "    <tr>\n",
       "      <th>Sam House</th>\n",
       "      <th>607-836-2966</th>\n",
       "      <td>3</td>\n",
       "    </tr>\n",
       "  </tbody>\n",
       "</table>\n",
       "</div>"
      ],
      "text/plain": [
       "                             total\n",
       "name           phone              \n",
       "Anita Koch     315-492-7411     17\n",
       "Jose Cook      516-745-9461      1\n",
       "Joseph Weaver  680-839-3746      1\n",
       "Justin Cochran 716-525-5173      1\n",
       "Sam House      607-836-2966      3"
      ]
     },
     "execution_count": 27,
     "metadata": {},
     "output_type": "execute_result"
    }
   ],
   "source": [
    "merged_df.loc[\n",
    "    merged_df.desc.str.contains(\"Cat Food\"), [\"name\", \"phone\", \"total\"]\n",
    "].groupby([\"name\", \"phone\"]).count()"
   ]
  },
  {
   "cell_type": "code",
   "execution_count": null,
   "metadata": {},
   "outputs": [],
   "source": []
  }
 ],
 "metadata": {
  "kernelspec": {
   "display_name": "hanukkah-of-data-lQob2YbU-py3.10",
   "language": "python",
   "name": "python3"
  },
  "language_info": {
   "codemirror_mode": {
    "name": "ipython",
    "version": 3
   },
   "file_extension": ".py",
   "mimetype": "text/x-python",
   "name": "python",
   "nbconvert_exporter": "python",
   "pygments_lexer": "ipython3",
   "version": "3.10.4 (main, Dec 19 2022, 20:24:16) [GCC 9.4.0]"
  },
  "orig_nbformat": 4,
  "vscode": {
   "interpreter": {
    "hash": "ec53ee0cba7468122bf9c4ab8b29b790e24bd9502907848a5f1124e6ee7c3f3e"
   }
  }
 },
 "nbformat": 4,
 "nbformat_minor": 2
}
