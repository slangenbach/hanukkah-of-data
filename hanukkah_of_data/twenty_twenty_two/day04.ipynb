{
 "cells": [
  {
   "attachments": {},
   "cell_type": "markdown",
   "metadata": {},
   "source": [
    "# Hanukkah of Data: Day 04\n",
    "\n",
    "We are looking for the phone number of a woman who fixed the bike of the man from puzzle 3.  \n",
    "She is a customer of Noah's and often bought pastries in the early morning."
   ]
  },
  {
   "attachments": {},
   "cell_type": "markdown",
   "metadata": {},
   "source": [
    "## Setup"
   ]
  },
  {
   "cell_type": "code",
   "execution_count": 2,
   "metadata": {},
   "outputs": [],
   "source": [
    "import pandas as pd\n",
    "\n",
    "from hanukkah_of_data.utils import load_data"
   ]
  },
  {
   "attachments": {},
   "cell_type": "markdown",
   "metadata": {},
   "source": [
    "## Load data"
   ]
  },
  {
   "cell_type": "code",
   "execution_count": 3,
   "metadata": {},
   "outputs": [],
   "source": [
    "dfs = load_data()"
   ]
  },
  {
   "attachments": {},
   "cell_type": "markdown",
   "metadata": {},
   "source": [
    "## Solve puzzle"
   ]
  },
  {
   "cell_type": "code",
   "execution_count": 4,
   "metadata": {},
   "outputs": [],
   "source": [
    "customers_df = dfs[\"customers\"]\n",
    "orders_df = dfs[\"orders\"]\n",
    "items_df = dfs[\"orders_items\"]\n",
    "products_df = dfs[\"products\"]"
   ]
  },
  {
   "cell_type": "code",
   "execution_count": 64,
   "metadata": {},
   "outputs": [],
   "source": [
    "early_orders_df = orders_df.loc[orders_df[\"shipped\"].dt.hour.between(3, 5)]"
   ]
  },
  {
   "cell_type": "code",
   "execution_count": 35,
   "metadata": {},
   "outputs": [],
   "source": [
    "merged_df = (\n",
    "    early_orders_df.merge(customers_df, how=\"left\", on=\"customerid\")\n",
    "    .merge(items_df, how=\"left\", on=\"orderid\")\n",
    "    .merge(products_df, how=\"left\", on=\"sku\")\n",
    ")"
   ]
  },
  {
   "cell_type": "code",
   "execution_count": 36,
   "metadata": {},
   "outputs": [
    {
     "name": "stdout",
     "output_type": "stream",
     "text": [
      "<class 'pandas.core.frame.DataFrame'>\n",
      "Int64Index: 2269 entries, 0 to 2268\n",
      "Data columns (total 16 columns):\n",
      " #   Column          Non-Null Count  Dtype         \n",
      "---  ------          --------------  -----         \n",
      " 0   orderid         2269 non-null   int64         \n",
      " 1   customerid      2269 non-null   int64         \n",
      " 2   ordered         2269 non-null   datetime64[ns]\n",
      " 3   shipped         2269 non-null   datetime64[ns]\n",
      " 4   items           0 non-null      float64       \n",
      " 5   total           2269 non-null   float64       \n",
      " 6   name            2269 non-null   string        \n",
      " 7   address         2269 non-null   string        \n",
      " 8   citystatezip    2269 non-null   string        \n",
      " 9   birthdate       2269 non-null   datetime64[ns]\n",
      " 10  phone           2269 non-null   string        \n",
      " 11  sku             2269 non-null   string        \n",
      " 12  qty             2269 non-null   int64         \n",
      " 13  unit_price      2269 non-null   float64       \n",
      " 14  desc            2269 non-null   string        \n",
      " 15  wholesale_cost  2269 non-null   float64       \n",
      "dtypes: datetime64[ns](3), float64(4), int64(3), string(6)\n",
      "memory usage: 301.4 KB\n"
     ]
    }
   ],
   "source": [
    "merged_df.info()"
   ]
  },
  {
   "attachments": {},
   "cell_type": "markdown",
   "metadata": {},
   "source": [
    "Accorind to the internet _Rugelach_ is the king of Jewish pastries.  "
   ]
  },
  {
   "cell_type": "code",
   "execution_count": 63,
   "metadata": {},
   "outputs": [
    {
     "data": {
      "text/html": [
       "<div>\n",
       "<style scoped>\n",
       "    .dataframe tbody tr th:only-of-type {\n",
       "        vertical-align: middle;\n",
       "    }\n",
       "\n",
       "    .dataframe tbody tr th {\n",
       "        vertical-align: top;\n",
       "    }\n",
       "\n",
       "    .dataframe thead th {\n",
       "        text-align: right;\n",
       "    }\n",
       "</style>\n",
       "<table border=\"1\" class=\"dataframe\">\n",
       "  <thead>\n",
       "    <tr style=\"text-align: right;\">\n",
       "      <th></th>\n",
       "      <th>orderid</th>\n",
       "      <th>customerid</th>\n",
       "      <th>ordered</th>\n",
       "      <th>shipped</th>\n",
       "      <th>items</th>\n",
       "      <th>total</th>\n",
       "      <th>name</th>\n",
       "      <th>address</th>\n",
       "      <th>citystatezip</th>\n",
       "      <th>birthdate</th>\n",
       "      <th>phone</th>\n",
       "      <th>sku</th>\n",
       "      <th>qty</th>\n",
       "      <th>unit_price</th>\n",
       "      <th>desc</th>\n",
       "      <th>wholesale_cost</th>\n",
       "    </tr>\n",
       "  </thead>\n",
       "  <tbody>\n",
       "    <tr>\n",
       "      <th>431</th>\n",
       "      <td>38035</td>\n",
       "      <td>9621</td>\n",
       "      <td>2018-02-07 05:46:38</td>\n",
       "      <td>2018-02-07 05:46:38</td>\n",
       "      <td>NaN</td>\n",
       "      <td>167.47</td>\n",
       "      <td>Jill Smith</td>\n",
       "      <td>171A E 9th St</td>\n",
       "      <td>Manhattan, NY 10003</td>\n",
       "      <td>1988-05-31</td>\n",
       "      <td>516-485-4509</td>\n",
       "      <td>BKY6881</td>\n",
       "      <td>1</td>\n",
       "      <td>7.51</td>\n",
       "      <td>Poppyseed Rugelach</td>\n",
       "      <td>5.35</td>\n",
       "    </tr>\n",
       "    <tr>\n",
       "      <th>527</th>\n",
       "      <td>48000</td>\n",
       "      <td>5375</td>\n",
       "      <td>2018-05-16 04:25:13</td>\n",
       "      <td>2018-05-16 04:25:13</td>\n",
       "      <td>NaN</td>\n",
       "      <td>12.72</td>\n",
       "      <td>Christina Booker</td>\n",
       "      <td>1127 Grinnell Pl</td>\n",
       "      <td>Bronx, NY 10474</td>\n",
       "      <td>1981-01-08</td>\n",
       "      <td>718-649-9036</td>\n",
       "      <td>BKY0455</td>\n",
       "      <td>2</td>\n",
       "      <td>6.36</td>\n",
       "      <td>Raspberry Rugelach</td>\n",
       "      <td>5.24</td>\n",
       "    </tr>\n",
       "    <tr>\n",
       "      <th>651</th>\n",
       "      <td>59167</td>\n",
       "      <td>5190</td>\n",
       "      <td>2018-09-05 00:25:05</td>\n",
       "      <td>2018-09-05 05:15:00</td>\n",
       "      <td>NaN</td>\n",
       "      <td>48.95</td>\n",
       "      <td>Dustin Wallace</td>\n",
       "      <td>499 E 161st St</td>\n",
       "      <td>Bronx, NY 10451</td>\n",
       "      <td>1966-07-08</td>\n",
       "      <td>631-505-6074</td>\n",
       "      <td>BKY0455</td>\n",
       "      <td>1</td>\n",
       "      <td>6.55</td>\n",
       "      <td>Raspberry Rugelach</td>\n",
       "      <td>5.24</td>\n",
       "    </tr>\n",
       "    <tr>\n",
       "      <th>991</th>\n",
       "      <td>93583</td>\n",
       "      <td>5375</td>\n",
       "      <td>2019-08-14 04:09:04</td>\n",
       "      <td>2019-08-14 04:09:04</td>\n",
       "      <td>NaN</td>\n",
       "      <td>5.60</td>\n",
       "      <td>Christina Booker</td>\n",
       "      <td>1127 Grinnell Pl</td>\n",
       "      <td>Bronx, NY 10474</td>\n",
       "      <td>1981-01-08</td>\n",
       "      <td>718-649-9036</td>\n",
       "      <td>BKY6881</td>\n",
       "      <td>1</td>\n",
       "      <td>5.60</td>\n",
       "      <td>Poppyseed Rugelach</td>\n",
       "      <td>5.35</td>\n",
       "    </tr>\n",
       "    <tr>\n",
       "      <th>1189</th>\n",
       "      <td>112567</td>\n",
       "      <td>10543</td>\n",
       "      <td>2020-02-20 03:24:04</td>\n",
       "      <td>2020-02-20 03:24:04</td>\n",
       "      <td>NaN</td>\n",
       "      <td>110.06</td>\n",
       "      <td>John Roberts</td>\n",
       "      <td>790 Westchester Ave</td>\n",
       "      <td>Bronx, NY 10456</td>\n",
       "      <td>1968-05-30</td>\n",
       "      <td>917-407-3437</td>\n",
       "      <td>BKY0455</td>\n",
       "      <td>1</td>\n",
       "      <td>6.15</td>\n",
       "      <td>Raspberry Rugelach</td>\n",
       "      <td>5.24</td>\n",
       "    </tr>\n",
       "    <tr>\n",
       "      <th>1853</th>\n",
       "      <td>174534</td>\n",
       "      <td>5375</td>\n",
       "      <td>2021-11-02 04:41:47</td>\n",
       "      <td>2021-11-02 04:41:47</td>\n",
       "      <td>NaN</td>\n",
       "      <td>6.36</td>\n",
       "      <td>Christina Booker</td>\n",
       "      <td>1127 Grinnell Pl</td>\n",
       "      <td>Bronx, NY 10474</td>\n",
       "      <td>1981-01-08</td>\n",
       "      <td>718-649-9036</td>\n",
       "      <td>BKY0455</td>\n",
       "      <td>1</td>\n",
       "      <td>6.36</td>\n",
       "      <td>Raspberry Rugelach</td>\n",
       "      <td>5.24</td>\n",
       "    </tr>\n",
       "  </tbody>\n",
       "</table>\n",
       "</div>"
      ],
      "text/plain": [
       "      orderid  customerid             ordered             shipped  items  \\\n",
       "431     38035        9621 2018-02-07 05:46:38 2018-02-07 05:46:38    NaN   \n",
       "527     48000        5375 2018-05-16 04:25:13 2018-05-16 04:25:13    NaN   \n",
       "651     59167        5190 2018-09-05 00:25:05 2018-09-05 05:15:00    NaN   \n",
       "991     93583        5375 2019-08-14 04:09:04 2019-08-14 04:09:04    NaN   \n",
       "1189   112567       10543 2020-02-20 03:24:04 2020-02-20 03:24:04    NaN   \n",
       "1853   174534        5375 2021-11-02 04:41:47 2021-11-02 04:41:47    NaN   \n",
       "\n",
       "       total              name              address         citystatezip  \\\n",
       "431   167.47        Jill Smith        171A E 9th St  Manhattan, NY 10003   \n",
       "527    12.72  Christina Booker     1127 Grinnell Pl      Bronx, NY 10474   \n",
       "651    48.95    Dustin Wallace       499 E 161st St      Bronx, NY 10451   \n",
       "991     5.60  Christina Booker     1127 Grinnell Pl      Bronx, NY 10474   \n",
       "1189  110.06      John Roberts  790 Westchester Ave      Bronx, NY 10456   \n",
       "1853    6.36  Christina Booker     1127 Grinnell Pl      Bronx, NY 10474   \n",
       "\n",
       "      birthdate         phone      sku  qty  unit_price                desc  \\\n",
       "431  1988-05-31  516-485-4509  BKY6881    1        7.51  Poppyseed Rugelach   \n",
       "527  1981-01-08  718-649-9036  BKY0455    2        6.36  Raspberry Rugelach   \n",
       "651  1966-07-08  631-505-6074  BKY0455    1        6.55  Raspberry Rugelach   \n",
       "991  1981-01-08  718-649-9036  BKY6881    1        5.60  Poppyseed Rugelach   \n",
       "1189 1968-05-30  917-407-3437  BKY0455    1        6.15  Raspberry Rugelach   \n",
       "1853 1981-01-08  718-649-9036  BKY0455    1        6.36  Raspberry Rugelach   \n",
       "\n",
       "      wholesale_cost  \n",
       "431             5.35  \n",
       "527             5.24  \n",
       "651             5.24  \n",
       "991             5.35  \n",
       "1189            5.24  \n",
       "1853            5.24  "
      ]
     },
     "execution_count": 63,
     "metadata": {},
     "output_type": "execute_result"
    }
   ],
   "source": [
    "merged_df.loc[merged_df.desc.str.contains(\"Rugelach\")]"
   ]
  },
  {
   "attachments": {},
   "cell_type": "markdown",
   "metadata": {},
   "source": [
    "We are looking for *Christina Booker* as she is the only customer with multiple early purchaes"
   ]
  }
 ],
 "metadata": {
  "kernelspec": {
   "display_name": "hanukkah-of-data-lQob2YbU-py3.10",
   "language": "python",
   "name": "python3"
  },
  "language_info": {
   "codemirror_mode": {
    "name": "ipython",
    "version": 3
   },
   "file_extension": ".py",
   "mimetype": "text/x-python",
   "name": "python",
   "nbconvert_exporter": "python",
   "pygments_lexer": "ipython3",
   "version": "3.10.4"
  },
  "orig_nbformat": 4,
  "vscode": {
   "interpreter": {
    "hash": "ec53ee0cba7468122bf9c4ab8b29b790e24bd9502907848a5f1124e6ee7c3f3e"
   }
  }
 },
 "nbformat": 4,
 "nbformat_minor": 2
}
