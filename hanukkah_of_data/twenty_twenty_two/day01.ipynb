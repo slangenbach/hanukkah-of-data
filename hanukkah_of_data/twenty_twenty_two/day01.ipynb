{
 "cells": [
  {
   "attachments": {},
   "cell_type": "markdown",
   "metadata": {},
   "source": [
    "# Hanukkah of Data: Day 01"
   ]
  },
  {
   "attachments": {},
   "cell_type": "markdown",
   "metadata": {},
   "source": [
    "## Setup"
   ]
  },
  {
   "cell_type": "code",
   "execution_count": 1,
   "metadata": {},
   "outputs": [],
   "source": [
    "import pandas as pd\n",
    "\n",
    "from hanukkah_of_data.utils import load_data, string_to_phone_number"
   ]
  },
  {
   "attachments": {},
   "cell_type": "markdown",
   "metadata": {},
   "source": [
    "## Load data"
   ]
  },
  {
   "cell_type": "code",
   "execution_count": 2,
   "metadata": {},
   "outputs": [],
   "source": [
    "dfs = load_data()"
   ]
  },
  {
   "cell_type": "code",
   "execution_count": 3,
   "metadata": {},
   "outputs": [],
   "source": [
    "customers_df = dfs[\"customers\"]"
   ]
  },
  {
   "attachments": {},
   "cell_type": "markdown",
   "metadata": {},
   "source": [
    "## Solve puzzle"
   ]
  },
  {
   "cell_type": "code",
   "execution_count": 4,
   "metadata": {},
   "outputs": [
    {
     "name": "stdout",
     "output_type": "stream",
     "text": [
      "<class 'pandas.core.frame.DataFrame'>\n",
      "RangeIndex: 11080 entries, 0 to 11079\n",
      "Data columns (total 6 columns):\n",
      " #   Column        Non-Null Count  Dtype         \n",
      "---  ------        --------------  -----         \n",
      " 0   customerid    11080 non-null  int64         \n",
      " 1   name          11080 non-null  string        \n",
      " 2   address       11080 non-null  string        \n",
      " 3   citystatezip  11080 non-null  string        \n",
      " 4   birthdate     11080 non-null  datetime64[ns]\n",
      " 5   phone         11080 non-null  string        \n",
      "dtypes: datetime64[ns](1), int64(1), string(4)\n",
      "memory usage: 519.5 KB\n"
     ]
    }
   ],
   "source": [
    "customers_df.info()"
   ]
  },
  {
   "cell_type": "code",
   "execution_count": 5,
   "metadata": {},
   "outputs": [
    {
     "data": {
      "text/html": [
       "<div>\n",
       "<style scoped>\n",
       "    .dataframe tbody tr th:only-of-type {\n",
       "        vertical-align: middle;\n",
       "    }\n",
       "\n",
       "    .dataframe tbody tr th {\n",
       "        vertical-align: top;\n",
       "    }\n",
       "\n",
       "    .dataframe thead th {\n",
       "        text-align: right;\n",
       "    }\n",
       "</style>\n",
       "<table border=\"1\" class=\"dataframe\">\n",
       "  <thead>\n",
       "    <tr style=\"text-align: right;\">\n",
       "      <th></th>\n",
       "      <th>customerid</th>\n",
       "      <th>name</th>\n",
       "      <th>address</th>\n",
       "      <th>citystatezip</th>\n",
       "      <th>birthdate</th>\n",
       "      <th>phone</th>\n",
       "    </tr>\n",
       "  </thead>\n",
       "  <tbody>\n",
       "    <tr>\n",
       "      <th>0</th>\n",
       "      <td>1001</td>\n",
       "      <td>Jack Quinn</td>\n",
       "      <td>201 E Park St</td>\n",
       "      <td>Los Angeles, CA 91343</td>\n",
       "      <td>1960-05-14</td>\n",
       "      <td>805-287-8515</td>\n",
       "    </tr>\n",
       "    <tr>\n",
       "      <th>1</th>\n",
       "      <td>1002</td>\n",
       "      <td>David Powell</td>\n",
       "      <td>224C Tysens Ln</td>\n",
       "      <td>Staten Island, NY 10306</td>\n",
       "      <td>1978-04-04</td>\n",
       "      <td>516-768-1652</td>\n",
       "    </tr>\n",
       "    <tr>\n",
       "      <th>2</th>\n",
       "      <td>1003</td>\n",
       "      <td>Carrie Green</td>\n",
       "      <td>1608 W 53rd Way</td>\n",
       "      <td>Tampa, FL 33614</td>\n",
       "      <td>1969-01-21</td>\n",
       "      <td>727-209-0470</td>\n",
       "    </tr>\n",
       "    <tr>\n",
       "      <th>3</th>\n",
       "      <td>1004</td>\n",
       "      <td>Steven Miller</td>\n",
       "      <td>178½ E 7th St</td>\n",
       "      <td>Manhattan, NY 10009</td>\n",
       "      <td>1953-08-17</td>\n",
       "      <td>607-941-9563</td>\n",
       "    </tr>\n",
       "    <tr>\n",
       "      <th>4</th>\n",
       "      <td>1005</td>\n",
       "      <td>Christine Powers</td>\n",
       "      <td>270 W 242nd St</td>\n",
       "      <td>Bronx, NY 10463</td>\n",
       "      <td>1983-06-06</td>\n",
       "      <td>212-759-9043</td>\n",
       "    </tr>\n",
       "  </tbody>\n",
       "</table>\n",
       "</div>"
      ],
      "text/plain": [
       "   customerid              name          address             citystatezip  \\\n",
       "0        1001        Jack Quinn    201 E Park St    Los Angeles, CA 91343   \n",
       "1        1002      David Powell   224C Tysens Ln  Staten Island, NY 10306   \n",
       "2        1003      Carrie Green  1608 W 53rd Way          Tampa, FL 33614   \n",
       "3        1004     Steven Miller    178½ E 7th St      Manhattan, NY 10009   \n",
       "4        1005  Christine Powers   270 W 242nd St          Bronx, NY 10463   \n",
       "\n",
       "   birthdate         phone  \n",
       "0 1960-05-14  805-287-8515  \n",
       "1 1978-04-04  516-768-1652  \n",
       "2 1969-01-21  727-209-0470  \n",
       "3 1953-08-17  607-941-9563  \n",
       "4 1983-06-06  212-759-9043  "
      ]
     },
     "execution_count": 5,
     "metadata": {},
     "output_type": "execute_result"
    }
   ],
   "source": [
    "customers_df.head()"
   ]
  },
  {
   "cell_type": "code",
   "execution_count": 6,
   "metadata": {},
   "outputs": [],
   "source": [
    "customers_df[[\"first_name\", \"last_name\"]] = customers_df.name.str.split(\n",
    "    \" \", n=1, expand=True\n",
    ")"
   ]
  },
  {
   "attachments": {},
   "cell_type": "markdown",
   "metadata": {},
   "source": [
    "Potential candidates are those customers, whose last names consist of exactly 10 chars"
   ]
  },
  {
   "cell_type": "code",
   "execution_count": 7,
   "metadata": {},
   "outputs": [],
   "source": [
    "candidates_df = customers_df.loc[\n",
    "    customers_df.last_name.str.len() == 10, [\"name\", \"first_name\", \"last_name\", \"phone\"]\n",
    "]"
   ]
  },
  {
   "cell_type": "code",
   "execution_count": 8,
   "metadata": {},
   "outputs": [
    {
     "data": {
      "text/html": [
       "<div>\n",
       "<style scoped>\n",
       "    .dataframe tbody tr th:only-of-type {\n",
       "        vertical-align: middle;\n",
       "    }\n",
       "\n",
       "    .dataframe tbody tr th {\n",
       "        vertical-align: top;\n",
       "    }\n",
       "\n",
       "    .dataframe thead th {\n",
       "        text-align: right;\n",
       "    }\n",
       "</style>\n",
       "<table border=\"1\" class=\"dataframe\">\n",
       "  <thead>\n",
       "    <tr style=\"text-align: right;\">\n",
       "      <th></th>\n",
       "      <th>name</th>\n",
       "      <th>first_name</th>\n",
       "      <th>last_name</th>\n",
       "      <th>phone</th>\n",
       "    </tr>\n",
       "  </thead>\n",
       "  <tbody>\n",
       "    <tr>\n",
       "      <th>39</th>\n",
       "      <td>Grant Warner III</td>\n",
       "      <td>Grant</td>\n",
       "      <td>Warner III</td>\n",
       "      <td>631-874-1040</td>\n",
       "    </tr>\n",
       "    <tr>\n",
       "      <th>65</th>\n",
       "      <td>Stephanie Fitzgerald</td>\n",
       "      <td>Stephanie</td>\n",
       "      <td>Fitzgerald</td>\n",
       "      <td>631-259-0721</td>\n",
       "    </tr>\n",
       "    <tr>\n",
       "      <th>73</th>\n",
       "      <td>Derek Mclaughlin</td>\n",
       "      <td>Derek</td>\n",
       "      <td>Mclaughlin</td>\n",
       "      <td>716-582-2269</td>\n",
       "    </tr>\n",
       "    <tr>\n",
       "      <th>93</th>\n",
       "      <td>Kara Mccullough</td>\n",
       "      <td>Kara</td>\n",
       "      <td>Mccullough</td>\n",
       "      <td>716-251-2601</td>\n",
       "    </tr>\n",
       "    <tr>\n",
       "      <th>109</th>\n",
       "      <td>Keith Gamble III</td>\n",
       "      <td>Keith</td>\n",
       "      <td>Gamble III</td>\n",
       "      <td>909-657-3312</td>\n",
       "    </tr>\n",
       "  </tbody>\n",
       "</table>\n",
       "</div>"
      ],
      "text/plain": [
       "                     name first_name   last_name         phone\n",
       "39       Grant Warner III      Grant  Warner III  631-874-1040\n",
       "65   Stephanie Fitzgerald  Stephanie  Fitzgerald  631-259-0721\n",
       "73       Derek Mclaughlin      Derek  Mclaughlin  716-582-2269\n",
       "93        Kara Mccullough       Kara  Mccullough  716-251-2601\n",
       "109      Keith Gamble III      Keith  Gamble III  909-657-3312"
      ]
     },
     "execution_count": 8,
     "metadata": {},
     "output_type": "execute_result"
    }
   ],
   "source": [
    "candidates_df.head()"
   ]
  },
  {
   "cell_type": "code",
   "execution_count": 9,
   "metadata": {},
   "outputs": [
    {
     "name": "stderr",
     "output_type": "stream",
     "text": [
      "/tmp/ipykernel_23675/3919721992.py:2: FutureWarning: The default value of regex will change from True to False in a future version. In addition, single character regular expressions will *not* be treated as literal strings when regex=True.\n",
      "  candidates_df.last_name.str.replace(\" \", \"\").str.replace(\".\", \"\").str.lower()\n"
     ]
    }
   ],
   "source": [
    "candidates_df.last_name = (\n",
    "    candidates_df.last_name.str.replace(\" \", \"\").str.replace(\".\", \"\").str.lower()\n",
    ")"
   ]
  },
  {
   "cell_type": "code",
   "execution_count": 99,
   "metadata": {},
   "outputs": [
    {
     "data": {
      "text/html": [
       "<div>\n",
       "<style scoped>\n",
       "    .dataframe tbody tr th:only-of-type {\n",
       "        vertical-align: middle;\n",
       "    }\n",
       "\n",
       "    .dataframe tbody tr th {\n",
       "        vertical-align: top;\n",
       "    }\n",
       "\n",
       "    .dataframe thead th {\n",
       "        text-align: right;\n",
       "    }\n",
       "</style>\n",
       "<table border=\"1\" class=\"dataframe\">\n",
       "  <thead>\n",
       "    <tr style=\"text-align: right;\">\n",
       "      <th></th>\n",
       "      <th>name</th>\n",
       "      <th>first_name</th>\n",
       "      <th>last_name</th>\n",
       "      <th>phone</th>\n",
       "    </tr>\n",
       "  </thead>\n",
       "  <tbody>\n",
       "    <tr>\n",
       "      <th>39</th>\n",
       "      <td>Grant Warner III</td>\n",
       "      <td>Grant</td>\n",
       "      <td>warneriii</td>\n",
       "      <td>631-874-1040</td>\n",
       "    </tr>\n",
       "    <tr>\n",
       "      <th>65</th>\n",
       "      <td>Stephanie Fitzgerald</td>\n",
       "      <td>Stephanie</td>\n",
       "      <td>fitzgerald</td>\n",
       "      <td>631-259-0721</td>\n",
       "    </tr>\n",
       "    <tr>\n",
       "      <th>73</th>\n",
       "      <td>Derek Mclaughlin</td>\n",
       "      <td>Derek</td>\n",
       "      <td>mclaughlin</td>\n",
       "      <td>716-582-2269</td>\n",
       "    </tr>\n",
       "    <tr>\n",
       "      <th>93</th>\n",
       "      <td>Kara Mccullough</td>\n",
       "      <td>Kara</td>\n",
       "      <td>mccullough</td>\n",
       "      <td>716-251-2601</td>\n",
       "    </tr>\n",
       "    <tr>\n",
       "      <th>109</th>\n",
       "      <td>Keith Gamble III</td>\n",
       "      <td>Keith</td>\n",
       "      <td>gambleiii</td>\n",
       "      <td>909-657-3312</td>\n",
       "    </tr>\n",
       "  </tbody>\n",
       "</table>\n",
       "</div>"
      ],
      "text/plain": [
       "                     name first_name   last_name         phone\n",
       "39       Grant Warner III      Grant   warneriii  631-874-1040\n",
       "65   Stephanie Fitzgerald  Stephanie  fitzgerald  631-259-0721\n",
       "73       Derek Mclaughlin      Derek  mclaughlin  716-582-2269\n",
       "93        Kara Mccullough       Kara  mccullough  716-251-2601\n",
       "109      Keith Gamble III      Keith   gambleiii  909-657-3312"
      ]
     },
     "execution_count": 99,
     "metadata": {},
     "output_type": "execute_result"
    }
   ],
   "source": [
    "candidates_df.head()"
   ]
  },
  {
   "cell_type": "code",
   "execution_count": 105,
   "metadata": {},
   "outputs": [],
   "source": [
    "candidates_df[\"last_name_phone\"] = candidates_df.last_name.apply(string_to_phone_number)"
   ]
  },
  {
   "cell_type": "code",
   "execution_count": 108,
   "metadata": {},
   "outputs": [
    {
     "data": {
      "text/html": [
       "<div>\n",
       "<style scoped>\n",
       "    .dataframe tbody tr th:only-of-type {\n",
       "        vertical-align: middle;\n",
       "    }\n",
       "\n",
       "    .dataframe tbody tr th {\n",
       "        vertical-align: top;\n",
       "    }\n",
       "\n",
       "    .dataframe thead th {\n",
       "        text-align: right;\n",
       "    }\n",
       "</style>\n",
       "<table border=\"1\" class=\"dataframe\">\n",
       "  <thead>\n",
       "    <tr style=\"text-align: right;\">\n",
       "      <th></th>\n",
       "      <th>name</th>\n",
       "      <th>first_name</th>\n",
       "      <th>last_name</th>\n",
       "      <th>phone</th>\n",
       "      <th>last_name_phone</th>\n",
       "    </tr>\n",
       "  </thead>\n",
       "  <tbody>\n",
       "    <tr>\n",
       "      <th>39</th>\n",
       "      <td>Grant Warner III</td>\n",
       "      <td>Grant</td>\n",
       "      <td>warneriii</td>\n",
       "      <td>631-874-1040</td>\n",
       "      <td>927637444</td>\n",
       "    </tr>\n",
       "    <tr>\n",
       "      <th>65</th>\n",
       "      <td>Stephanie Fitzgerald</td>\n",
       "      <td>Stephanie</td>\n",
       "      <td>fitzgerald</td>\n",
       "      <td>631-259-0721</td>\n",
       "      <td>3489437253</td>\n",
       "    </tr>\n",
       "    <tr>\n",
       "      <th>73</th>\n",
       "      <td>Derek Mclaughlin</td>\n",
       "      <td>Derek</td>\n",
       "      <td>mclaughlin</td>\n",
       "      <td>716-582-2269</td>\n",
       "      <td>6252844546</td>\n",
       "    </tr>\n",
       "    <tr>\n",
       "      <th>93</th>\n",
       "      <td>Kara Mccullough</td>\n",
       "      <td>Kara</td>\n",
       "      <td>mccullough</td>\n",
       "      <td>716-251-2601</td>\n",
       "      <td>6228556844</td>\n",
       "    </tr>\n",
       "    <tr>\n",
       "      <th>109</th>\n",
       "      <td>Keith Gamble III</td>\n",
       "      <td>Keith</td>\n",
       "      <td>gambleiii</td>\n",
       "      <td>909-657-3312</td>\n",
       "      <td>426253444</td>\n",
       "    </tr>\n",
       "  </tbody>\n",
       "</table>\n",
       "</div>"
      ],
      "text/plain": [
       "                     name first_name   last_name         phone last_name_phone\n",
       "39       Grant Warner III      Grant   warneriii  631-874-1040       927637444\n",
       "65   Stephanie Fitzgerald  Stephanie  fitzgerald  631-259-0721      3489437253\n",
       "73       Derek Mclaughlin      Derek  mclaughlin  716-582-2269      6252844546\n",
       "93        Kara Mccullough       Kara  mccullough  716-251-2601      6228556844\n",
       "109      Keith Gamble III      Keith   gambleiii  909-657-3312       426253444"
      ]
     },
     "execution_count": 108,
     "metadata": {},
     "output_type": "execute_result"
    }
   ],
   "source": [
    "candidates_df.head()"
   ]
  },
  {
   "cell_type": "code",
   "execution_count": 107,
   "metadata": {},
   "outputs": [
    {
     "data": {
      "text/html": [
       "<div>\n",
       "<style scoped>\n",
       "    .dataframe tbody tr th:only-of-type {\n",
       "        vertical-align: middle;\n",
       "    }\n",
       "\n",
       "    .dataframe tbody tr th {\n",
       "        vertical-align: top;\n",
       "    }\n",
       "\n",
       "    .dataframe thead th {\n",
       "        text-align: right;\n",
       "    }\n",
       "</style>\n",
       "<table border=\"1\" class=\"dataframe\">\n",
       "  <thead>\n",
       "    <tr style=\"text-align: right;\">\n",
       "      <th></th>\n",
       "      <th>name</th>\n",
       "      <th>phone</th>\n",
       "    </tr>\n",
       "  </thead>\n",
       "  <tbody>\n",
       "    <tr>\n",
       "      <th>2187</th>\n",
       "      <td>Sam Guttenberg</td>\n",
       "      <td>488-836-2374</td>\n",
       "    </tr>\n",
       "  </tbody>\n",
       "</table>\n",
       "</div>"
      ],
      "text/plain": [
       "                name         phone\n",
       "2187  Sam Guttenberg  488-836-2374"
      ]
     },
     "execution_count": 107,
     "metadata": {},
     "output_type": "execute_result"
    }
   ],
   "source": [
    "candidates_df.loc[\n",
    "    candidates_df.phone.str.replace(\"-\", \"\") == candidates_df.last_name_phone,\n",
    "    [\"name\", \"phone\"],\n",
    "]"
   ]
  }
 ],
 "metadata": {
  "kernelspec": {
   "display_name": "hanukkah-of-data-lQob2YbU-py3.10",
   "language": "python",
   "name": "python3"
  },
  "language_info": {
   "codemirror_mode": {
    "name": "ipython",
    "version": 3
   },
   "file_extension": ".py",
   "mimetype": "text/x-python",
   "name": "python",
   "nbconvert_exporter": "python",
   "pygments_lexer": "ipython3",
   "version": "3.10.4"
  },
  "orig_nbformat": 4,
  "vscode": {
   "interpreter": {
    "hash": "ec53ee0cba7468122bf9c4ab8b29b790e24bd9502907848a5f1124e6ee7c3f3e"
   }
  }
 },
 "nbformat": 4,
 "nbformat_minor": 2
}
