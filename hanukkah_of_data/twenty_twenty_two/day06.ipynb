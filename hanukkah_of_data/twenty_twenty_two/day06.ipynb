{
 "cells": [
  {
   "attachments": {},
   "cell_type": "markdown",
   "metadata": {},
   "source": [
    "# Hanukkah of Data: Day 06\n",
    "\n",
    "We are looking for the phone number of a woman who is a customer of Noah's and loves to shop when products are on sale."
   ]
  },
  {
   "attachments": {},
   "cell_type": "markdown",
   "metadata": {},
   "source": [
    "## Setup"
   ]
  },
  {
   "cell_type": "code",
   "execution_count": 1,
   "metadata": {},
   "outputs": [],
   "source": [
    "import pandas as pd\n",
    "\n",
    "from hanukkah_of_data.utils import load_data"
   ]
  },
  {
   "attachments": {},
   "cell_type": "markdown",
   "metadata": {},
   "source": [
    "## Load data"
   ]
  },
  {
   "cell_type": "code",
   "execution_count": 2,
   "metadata": {},
   "outputs": [],
   "source": [
    "dfs = load_data()"
   ]
  },
  {
   "cell_type": "code",
   "execution_count": 7,
   "metadata": {},
   "outputs": [],
   "source": [
    "customers_df = dfs[\"customers\"]\n",
    "orders_df = dfs[\"orders\"]\n",
    "items_df = dfs[\"orders_items\"]\n",
    "products_df = dfs[\"products\"]"
   ]
  },
  {
   "attachments": {},
   "cell_type": "markdown",
   "metadata": {},
   "source": [
    "## Solve puzzle"
   ]
  },
  {
   "cell_type": "code",
   "execution_count": 18,
   "metadata": {},
   "outputs": [],
   "source": [
    "merged_df = (\n",
    "    customers_df.merge(orders_df, how=\"inner\", on=\"customerid\")\n",
    "    .merge(items_df, how=\"left\", on=\"orderid\")\n",
    "    .merge(products_df, how=\"left\", on=\"sku\")\n",
    ")"
   ]
  },
  {
   "cell_type": "code",
   "execution_count": 20,
   "metadata": {},
   "outputs": [
    {
     "name": "stdout",
     "output_type": "stream",
     "text": [
      "<class 'pandas.core.frame.DataFrame'>\n",
      "Int64Index: 427776 entries, 0 to 427775\n",
      "Data columns (total 16 columns):\n",
      " #   Column          Non-Null Count   Dtype         \n",
      "---  ------          --------------   -----         \n",
      " 0   customerid      427776 non-null  int64         \n",
      " 1   name            427776 non-null  string        \n",
      " 2   address         427776 non-null  string        \n",
      " 3   citystatezip    427776 non-null  string        \n",
      " 4   birthdate       427776 non-null  datetime64[ns]\n",
      " 5   phone           427776 non-null  string        \n",
      " 6   orderid         427776 non-null  int64         \n",
      " 7   ordered         427776 non-null  datetime64[ns]\n",
      " 8   shipped         427776 non-null  datetime64[ns]\n",
      " 9   items           0 non-null       float64       \n",
      " 10  total           427776 non-null  float64       \n",
      " 11  sku             427776 non-null  string        \n",
      " 12  qty             427776 non-null  int64         \n",
      " 13  unit_price      427776 non-null  float64       \n",
      " 14  desc            427776 non-null  string        \n",
      " 15  wholesale_cost  427776 non-null  float64       \n",
      "dtypes: datetime64[ns](3), float64(4), int64(3), string(6)\n",
      "memory usage: 55.5 MB\n"
     ]
    }
   ],
   "source": [
    "merged_df.info()"
   ]
  },
  {
   "cell_type": "code",
   "execution_count": 43,
   "metadata": {},
   "outputs": [],
   "source": [
    "grouped_df = merged_df.groupby([\"orderid\", \"name\", \"phone\"])[\n",
    "    [\"total\", \"wholesale_cost\"]\n",
    "].sum()"
   ]
  },
  {
   "cell_type": "code",
   "execution_count": 48,
   "metadata": {},
   "outputs": [],
   "source": [
    "grouped_df[\"is_loss\"] = grouped_df[\"total\"] < grouped_df[\"wholesale_cost\"]"
   ]
  },
  {
   "cell_type": "code",
   "execution_count": 69,
   "metadata": {},
   "outputs": [
    {
     "data": {
      "text/plain": [
       "name                  phone       \n",
       "Emily Randolph        914-868-0316    7\n",
       "Steven Reilly         680-315-1072    3\n",
       "Sabrina White         315-999-5397    3\n",
       "Robin Mercado         315-560-8204    2\n",
       "Stephen Figueroa III  585-718-8839    2\n",
       "                                     ..\n",
       "Emily Williamson      212-259-4245    1\n",
       "Emily Day             934-574-3613    1\n",
       "Emily Costa           631-245-3734    1\n",
       "Ellen Fisher          914-789-4401    1\n",
       "Zachary Hubbard Jr.   917-866-7618    1\n",
       "Name: is_loss, Length: 554, dtype: int64"
      ]
     },
     "execution_count": 69,
     "metadata": {},
     "output_type": "execute_result"
    }
   ],
   "source": [
    "grouped_df.loc[grouped_df[\"is_loss\"] == True, \"is_loss\"].groupby(\n",
    "    [\"name\", \"phone\"]\n",
    ").count().sort_values(ascending=False)"
   ]
  },
  {
   "cell_type": "code",
   "execution_count": null,
   "metadata": {},
   "outputs": [],
   "source": []
  }
 ],
 "metadata": {
  "kernelspec": {
   "display_name": "hanukkah-of-data-lQob2YbU-py3.10",
   "language": "python",
   "name": "python3"
  },
  "language_info": {
   "codemirror_mode": {
    "name": "ipython",
    "version": 3
   },
   "file_extension": ".py",
   "mimetype": "text/x-python",
   "name": "python",
   "nbconvert_exporter": "python",
   "pygments_lexer": "ipython3",
   "version": "3.10.4"
  },
  "orig_nbformat": 4,
  "vscode": {
   "interpreter": {
    "hash": "ec53ee0cba7468122bf9c4ab8b29b790e24bd9502907848a5f1124e6ee7c3f3e"
   }
  }
 },
 "nbformat": 4,
 "nbformat_minor": 2
}
