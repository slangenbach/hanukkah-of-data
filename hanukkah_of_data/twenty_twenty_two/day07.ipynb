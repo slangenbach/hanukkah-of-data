{
 "cells": [
  {
   "attachments": {},
   "cell_type": "markdown",
   "metadata": {},
   "source": [
    "# Hanukkah of Data: Day 07\n",
    "\n",
    "We are looking for the phone number of Emily Randolph's (puzzle 06) ex-boyfriend."
   ]
  },
  {
   "attachments": {},
   "cell_type": "markdown",
   "metadata": {},
   "source": [
    "## Setup"
   ]
  },
  {
   "cell_type": "code",
   "execution_count": 1,
   "metadata": {},
   "outputs": [],
   "source": [
    "import pandas as pd\n",
    "\n",
    "from hanukkah_of_data.utils import load_data"
   ]
  },
  {
   "attachments": {},
   "cell_type": "markdown",
   "metadata": {},
   "source": [
    "## Load data"
   ]
  },
  {
   "cell_type": "code",
   "execution_count": 2,
   "metadata": {},
   "outputs": [],
   "source": [
    "dfs = load_data()"
   ]
  },
  {
   "cell_type": "code",
   "execution_count": 3,
   "metadata": {},
   "outputs": [],
   "source": [
    "customers_df = dfs[\"customers\"]\n",
    "orders_df = dfs[\"orders\"]\n",
    "items_df = dfs[\"orders_items\"]\n",
    "products_df = dfs[\"products\"]"
   ]
  },
  {
   "attachments": {},
   "cell_type": "markdown",
   "metadata": {},
   "source": [
    "## Solve puzzle"
   ]
  },
  {
   "attachments": {},
   "cell_type": "markdown",
   "metadata": {},
   "source": [
    "### Get products ordered by Emily"
   ]
  },
  {
   "cell_type": "code",
   "execution_count": 4,
   "metadata": {},
   "outputs": [
    {
     "data": {
      "text/html": [
       "<div>\n",
       "<style scoped>\n",
       "    .dataframe tbody tr th:only-of-type {\n",
       "        vertical-align: middle;\n",
       "    }\n",
       "\n",
       "    .dataframe tbody tr th {\n",
       "        vertical-align: top;\n",
       "    }\n",
       "\n",
       "    .dataframe thead th {\n",
       "        text-align: right;\n",
       "    }\n",
       "</style>\n",
       "<table border=\"1\" class=\"dataframe\">\n",
       "  <thead>\n",
       "    <tr style=\"text-align: right;\">\n",
       "      <th></th>\n",
       "      <th>customerid</th>\n",
       "      <th>name</th>\n",
       "      <th>address</th>\n",
       "      <th>citystatezip</th>\n",
       "      <th>birthdate</th>\n",
       "      <th>phone</th>\n",
       "    </tr>\n",
       "  </thead>\n",
       "  <tbody>\n",
       "    <tr>\n",
       "      <th>7341</th>\n",
       "      <td>8342</td>\n",
       "      <td>Emily Randolph</td>\n",
       "      <td>1055A E 3rd St</td>\n",
       "      <td>Brooklyn, NY 11230</td>\n",
       "      <td>1988-10-30</td>\n",
       "      <td>914-868-0316</td>\n",
       "    </tr>\n",
       "  </tbody>\n",
       "</table>\n",
       "</div>"
      ],
      "text/plain": [
       "      customerid            name         address        citystatezip  \\\n",
       "7341        8342  Emily Randolph  1055A E 3rd St  Brooklyn, NY 11230   \n",
       "\n",
       "      birthdate         phone  \n",
       "7341 1988-10-30  914-868-0316  "
      ]
     },
     "execution_count": 4,
     "metadata": {},
     "output_type": "execute_result"
    }
   ],
   "source": [
    "customers_df.loc[customers_df.name == \"Emily Randolph\"]"
   ]
  },
  {
   "cell_type": "code",
   "execution_count": 5,
   "metadata": {},
   "outputs": [],
   "source": [
    "emily_orders_df = (\n",
    "    orders_df.loc[orders_df[\"customerid\"] == 8342]\n",
    "    .merge(items_df, how=\"left\", on=\"orderid\")\n",
    "    .merge(products_df, how=\"left\", on=\"sku\")\n",
    ")"
   ]
  },
  {
   "cell_type": "code",
   "execution_count": 6,
   "metadata": {},
   "outputs": [
    {
     "data": {
      "text/html": [
       "<div>\n",
       "<style scoped>\n",
       "    .dataframe tbody tr th:only-of-type {\n",
       "        vertical-align: middle;\n",
       "    }\n",
       "\n",
       "    .dataframe tbody tr th {\n",
       "        vertical-align: top;\n",
       "    }\n",
       "\n",
       "    .dataframe thead th {\n",
       "        text-align: right;\n",
       "    }\n",
       "</style>\n",
       "<table border=\"1\" class=\"dataframe\">\n",
       "  <thead>\n",
       "    <tr style=\"text-align: right;\">\n",
       "      <th></th>\n",
       "      <th>orderid</th>\n",
       "      <th>customerid</th>\n",
       "      <th>ordered</th>\n",
       "      <th>shipped</th>\n",
       "      <th>items</th>\n",
       "      <th>total</th>\n",
       "      <th>sku</th>\n",
       "      <th>qty</th>\n",
       "      <th>unit_price</th>\n",
       "      <th>desc</th>\n",
       "      <th>wholesale_cost</th>\n",
       "    </tr>\n",
       "  </thead>\n",
       "  <tbody>\n",
       "    <tr>\n",
       "      <th>0</th>\n",
       "      <td>12624</td>\n",
       "      <td>8342</td>\n",
       "      <td>2017-05-28 09:15:06</td>\n",
       "      <td>2017-05-28 11:00:00</td>\n",
       "      <td>NaN</td>\n",
       "      <td>17.56</td>\n",
       "      <td>HOM7105</td>\n",
       "      <td>1</td>\n",
       "      <td>17.56</td>\n",
       "      <td>Handmade Toaster (blue)</td>\n",
       "      <td>33.65</td>\n",
       "    </tr>\n",
       "    <tr>\n",
       "      <th>1</th>\n",
       "      <td>33563</td>\n",
       "      <td>8342</td>\n",
       "      <td>2017-12-24 17:05:45</td>\n",
       "      <td>2017-12-24 17:05:45</td>\n",
       "      <td>NaN</td>\n",
       "      <td>1.72</td>\n",
       "      <td>KIT0100</td>\n",
       "      <td>1</td>\n",
       "      <td>1.72</td>\n",
       "      <td>Super Coconut Fork</td>\n",
       "      <td>2.99</td>\n",
       "    </tr>\n",
       "    <tr>\n",
       "      <th>2</th>\n",
       "      <td>75257</td>\n",
       "      <td>8342</td>\n",
       "      <td>2019-02-11 18:52:45</td>\n",
       "      <td>2019-02-11 18:52:45</td>\n",
       "      <td>NaN</td>\n",
       "      <td>5.82</td>\n",
       "      <td>TOY9308</td>\n",
       "      <td>1</td>\n",
       "      <td>5.82</td>\n",
       "      <td>Disney Dreidel</td>\n",
       "      <td>10.22</td>\n",
       "    </tr>\n",
       "    <tr>\n",
       "      <th>3</th>\n",
       "      <td>86371</td>\n",
       "      <td>8342</td>\n",
       "      <td>2019-06-01 12:50:16</td>\n",
       "      <td>2019-06-01 12:50:16</td>\n",
       "      <td>NaN</td>\n",
       "      <td>15.90</td>\n",
       "      <td>HOM5139</td>\n",
       "      <td>1</td>\n",
       "      <td>15.90</td>\n",
       "      <td>Electric Machine (amber)</td>\n",
       "      <td>31.81</td>\n",
       "    </tr>\n",
       "    <tr>\n",
       "      <th>4</th>\n",
       "      <td>87599</td>\n",
       "      <td>8342</td>\n",
       "      <td>2019-06-13 15:56:36</td>\n",
       "      <td>2019-06-13 15:56:36</td>\n",
       "      <td>NaN</td>\n",
       "      <td>3.51</td>\n",
       "      <td>PET6786</td>\n",
       "      <td>1</td>\n",
       "      <td>0.99</td>\n",
       "      <td>Senior Mouse Food</td>\n",
       "      <td>1.40</td>\n",
       "    </tr>\n",
       "  </tbody>\n",
       "</table>\n",
       "</div>"
      ],
      "text/plain": [
       "   orderid  customerid             ordered             shipped  items  total  \\\n",
       "0    12624        8342 2017-05-28 09:15:06 2017-05-28 11:00:00    NaN  17.56   \n",
       "1    33563        8342 2017-12-24 17:05:45 2017-12-24 17:05:45    NaN   1.72   \n",
       "2    75257        8342 2019-02-11 18:52:45 2019-02-11 18:52:45    NaN   5.82   \n",
       "3    86371        8342 2019-06-01 12:50:16 2019-06-01 12:50:16    NaN  15.90   \n",
       "4    87599        8342 2019-06-13 15:56:36 2019-06-13 15:56:36    NaN   3.51   \n",
       "\n",
       "       sku  qty  unit_price                      desc  wholesale_cost  \n",
       "0  HOM7105    1       17.56   Handmade Toaster (blue)           33.65  \n",
       "1  KIT0100    1        1.72        Super Coconut Fork            2.99  \n",
       "2  TOY9308    1        5.82            Disney Dreidel           10.22  \n",
       "3  HOM5139    1       15.90  Electric Machine (amber)           31.81  \n",
       "4  PET6786    1        0.99         Senior Mouse Food            1.40  "
      ]
     },
     "execution_count": 6,
     "metadata": {},
     "output_type": "execute_result"
    }
   ],
   "source": [
    "emily_orders_df.head()"
   ]
  },
  {
   "cell_type": "code",
   "execution_count": 7,
   "metadata": {},
   "outputs": [],
   "source": [
    "emily_products_df = emily_orders_df.loc[emily_orders_df.desc.str.endswith(\")\")]"
   ]
  },
  {
   "cell_type": "code",
   "execution_count": 90,
   "metadata": {},
   "outputs": [
    {
     "data": {
      "text/html": [
       "<div>\n",
       "<style scoped>\n",
       "    .dataframe tbody tr th:only-of-type {\n",
       "        vertical-align: middle;\n",
       "    }\n",
       "\n",
       "    .dataframe tbody tr th {\n",
       "        vertical-align: top;\n",
       "    }\n",
       "\n",
       "    .dataframe thead th {\n",
       "        text-align: right;\n",
       "    }\n",
       "</style>\n",
       "<table border=\"1\" class=\"dataframe\">\n",
       "  <thead>\n",
       "    <tr style=\"text-align: right;\">\n",
       "      <th></th>\n",
       "      <th>orderid</th>\n",
       "      <th>customerid</th>\n",
       "      <th>ordered</th>\n",
       "      <th>shipped</th>\n",
       "      <th>items</th>\n",
       "      <th>total</th>\n",
       "      <th>sku</th>\n",
       "      <th>qty</th>\n",
       "      <th>unit_price</th>\n",
       "      <th>desc</th>\n",
       "      <th>wholesale_cost</th>\n",
       "    </tr>\n",
       "  </thead>\n",
       "  <tbody>\n",
       "    <tr>\n",
       "      <th>0</th>\n",
       "      <td>12624</td>\n",
       "      <td>8342</td>\n",
       "      <td>2017-05-28 09:15:06</td>\n",
       "      <td>2017-05-28 11:00:00</td>\n",
       "      <td>NaN</td>\n",
       "      <td>17.56</td>\n",
       "      <td>HOM7105</td>\n",
       "      <td>1</td>\n",
       "      <td>17.56</td>\n",
       "      <td>Handmade Toaster (blue)</td>\n",
       "      <td>33.65</td>\n",
       "    </tr>\n",
       "    <tr>\n",
       "      <th>3</th>\n",
       "      <td>86371</td>\n",
       "      <td>8342</td>\n",
       "      <td>2019-06-01 12:50:16</td>\n",
       "      <td>2019-06-01 12:50:16</td>\n",
       "      <td>NaN</td>\n",
       "      <td>15.90</td>\n",
       "      <td>HOM5139</td>\n",
       "      <td>1</td>\n",
       "      <td>15.90</td>\n",
       "      <td>Electric Machine (amber)</td>\n",
       "      <td>31.81</td>\n",
       "    </tr>\n",
       "    <tr>\n",
       "      <th>6</th>\n",
       "      <td>94040</td>\n",
       "      <td>8342</td>\n",
       "      <td>2019-08-18 14:20:28</td>\n",
       "      <td>2019-08-18 14:20:28</td>\n",
       "      <td>NaN</td>\n",
       "      <td>78.95</td>\n",
       "      <td>HOM1216</td>\n",
       "      <td>1</td>\n",
       "      <td>53.81</td>\n",
       "      <td>Manual Mixer (orange)</td>\n",
       "      <td>94.72</td>\n",
       "    </tr>\n",
       "    <tr>\n",
       "      <th>8</th>\n",
       "      <td>94040</td>\n",
       "      <td>8342</td>\n",
       "      <td>2019-08-18 14:20:28</td>\n",
       "      <td>2019-08-18 14:20:28</td>\n",
       "      <td>NaN</td>\n",
       "      <td>78.95</td>\n",
       "      <td>HOM5127</td>\n",
       "      <td>1</td>\n",
       "      <td>12.34</td>\n",
       "      <td>Electric Toaster (blue)</td>\n",
       "      <td>21.72</td>\n",
       "    </tr>\n",
       "    <tr>\n",
       "      <th>9</th>\n",
       "      <td>96220</td>\n",
       "      <td>8342</td>\n",
       "      <td>2019-09-09 16:30:05</td>\n",
       "      <td>2019-09-09 17:45:00</td>\n",
       "      <td>NaN</td>\n",
       "      <td>9.18</td>\n",
       "      <td>COL4384</td>\n",
       "      <td>1</td>\n",
       "      <td>4.26</td>\n",
       "      <td>Noah's Poster (white)</td>\n",
       "      <td>7.52</td>\n",
       "    </tr>\n",
       "    <tr>\n",
       "      <th>20</th>\n",
       "      <td>154876</td>\n",
       "      <td>8342</td>\n",
       "      <td>2021-04-17 19:52:28</td>\n",
       "      <td>2021-04-17 19:52:28</td>\n",
       "      <td>NaN</td>\n",
       "      <td>76.21</td>\n",
       "      <td>COL4001</td>\n",
       "      <td>1</td>\n",
       "      <td>29.39</td>\n",
       "      <td>Noah's Jewelry (yellow)</td>\n",
       "      <td>53.74</td>\n",
       "    </tr>\n",
       "    <tr>\n",
       "      <th>21</th>\n",
       "      <td>154876</td>\n",
       "      <td>8342</td>\n",
       "      <td>2021-04-17 19:52:28</td>\n",
       "      <td>2021-04-17 19:52:28</td>\n",
       "      <td>NaN</td>\n",
       "      <td>76.21</td>\n",
       "      <td>HOM5838</td>\n",
       "      <td>1</td>\n",
       "      <td>39.02</td>\n",
       "      <td>Electric Crockpot (purple)</td>\n",
       "      <td>71.36</td>\n",
       "    </tr>\n",
       "    <tr>\n",
       "      <th>25</th>\n",
       "      <td>200947</td>\n",
       "      <td>8342</td>\n",
       "      <td>2022-07-26 08:18:05</td>\n",
       "      <td>2022-07-26 16:00:00</td>\n",
       "      <td>NaN</td>\n",
       "      <td>28.10</td>\n",
       "      <td>COL3831</td>\n",
       "      <td>1</td>\n",
       "      <td>28.10</td>\n",
       "      <td>Noah's Jewelry (orange)</td>\n",
       "      <td>49.80</td>\n",
       "    </tr>\n",
       "  </tbody>\n",
       "</table>\n",
       "</div>"
      ],
      "text/plain": [
       "    orderid  customerid             ordered             shipped  items  total  \\\n",
       "0     12624        8342 2017-05-28 09:15:06 2017-05-28 11:00:00    NaN  17.56   \n",
       "3     86371        8342 2019-06-01 12:50:16 2019-06-01 12:50:16    NaN  15.90   \n",
       "6     94040        8342 2019-08-18 14:20:28 2019-08-18 14:20:28    NaN  78.95   \n",
       "8     94040        8342 2019-08-18 14:20:28 2019-08-18 14:20:28    NaN  78.95   \n",
       "9     96220        8342 2019-09-09 16:30:05 2019-09-09 17:45:00    NaN   9.18   \n",
       "20   154876        8342 2021-04-17 19:52:28 2021-04-17 19:52:28    NaN  76.21   \n",
       "21   154876        8342 2021-04-17 19:52:28 2021-04-17 19:52:28    NaN  76.21   \n",
       "25   200947        8342 2022-07-26 08:18:05 2022-07-26 16:00:00    NaN  28.10   \n",
       "\n",
       "        sku  qty  unit_price                        desc  wholesale_cost  \n",
       "0   HOM7105    1       17.56     Handmade Toaster (blue)           33.65  \n",
       "3   HOM5139    1       15.90    Electric Machine (amber)           31.81  \n",
       "6   HOM1216    1       53.81       Manual Mixer (orange)           94.72  \n",
       "8   HOM5127    1       12.34     Electric Toaster (blue)           21.72  \n",
       "9   COL4384    1        4.26       Noah's Poster (white)            7.52  \n",
       "20  COL4001    1       29.39     Noah's Jewelry (yellow)           53.74  \n",
       "21  HOM5838    1       39.02  Electric Crockpot (purple)           71.36  \n",
       "25  COL3831    1       28.10     Noah's Jewelry (orange)           49.80  "
      ]
     },
     "execution_count": 90,
     "metadata": {},
     "output_type": "execute_result"
    }
   ],
   "source": [
    "emily_products_df"
   ]
  },
  {
   "cell_type": "code",
   "execution_count": 130,
   "metadata": {},
   "outputs": [
    {
     "data": {
      "text/plain": [
       "0     2017-05-28\n",
       "3     2019-06-01\n",
       "6     2019-08-18\n",
       "8     2019-08-18\n",
       "9     2019-09-09\n",
       "20    2021-04-17\n",
       "21    2021-04-17\n",
       "25    2022-07-26\n",
       "Name: ordered, dtype: object"
      ]
     },
     "execution_count": 130,
     "metadata": {},
     "output_type": "execute_result"
    }
   ],
   "source": [
    "emily_dates = emily_products_df[\"ordered\"].dt.date\n",
    "emily_dates"
   ]
  },
  {
   "cell_type": "code",
   "execution_count": 153,
   "metadata": {},
   "outputs": [
    {
     "data": {
      "text/plain": [
       "0      Handmade Toaster \n",
       "3      Electric Machine \n",
       "6          Manual Mixer \n",
       "8      Electric Toaster \n",
       "9         Noah's Poster \n",
       "20       Noah's Jewelry \n",
       "21    Electric Crockpot \n",
       "25       Noah's Jewelry \n",
       "Name: desc, dtype: string"
      ]
     },
     "execution_count": 153,
     "metadata": {},
     "output_type": "execute_result"
    }
   ],
   "source": [
    "emily_products = emily_products_df[\"desc\"].str.replace(\"\\(\\w+\\)\", \"\", regex=True)\n",
    "emily_products"
   ]
  },
  {
   "cell_type": "code",
   "execution_count": 154,
   "metadata": {},
   "outputs": [
    {
     "data": {
      "text/plain": [
       "0       blue\n",
       "3      amber\n",
       "6     orange\n",
       "8       blue\n",
       "9      white\n",
       "20    yellow\n",
       "21    purple\n",
       "25    orange\n",
       "Name: desc, dtype: string"
      ]
     },
     "execution_count": 154,
     "metadata": {},
     "output_type": "execute_result"
    }
   ],
   "source": [
    "emily_colors = emily_products_df[\"desc\"].str.extract(\"\\((\\w+)\\)\", expand=False)\n",
    "emily_colors"
   ]
  },
  {
   "cell_type": "code",
   "execution_count": 155,
   "metadata": {},
   "outputs": [],
   "source": [
    "emily_product_color_map = {\n",
    "    prod: color for prod, color in zip(emily_products, emily_colors)\n",
    "}"
   ]
  },
  {
   "attachments": {},
   "cell_type": "markdown",
   "metadata": {},
   "source": [
    "### Filter for customers having ordered _Emily_ products on _Emily_ dates"
   ]
  },
  {
   "cell_type": "code",
   "execution_count": 156,
   "metadata": {},
   "outputs": [],
   "source": [
    "merged_df = (\n",
    "    customers_df.merge(orders_df, how=\"inner\", on=\"customerid\")\n",
    "    .merge(items_df, how=\"left\", on=\"orderid\")\n",
    "    .merge(products_df, how=\"left\", on=\"sku\")\n",
    ")"
   ]
  },
  {
   "cell_type": "code",
   "execution_count": 157,
   "metadata": {},
   "outputs": [],
   "source": [
    "merged_df[\"clean_desc\"] = merged_df[\"desc\"].str.replace(\"\\(\\w+\\)\", \"\", regex=True)"
   ]
  },
  {
   "cell_type": "code",
   "execution_count": 158,
   "metadata": {},
   "outputs": [],
   "source": [
    "merged_df[\"color\"] = merged_df[\"desc\"].str.extract(\"\\((\\w+)\\)\")"
   ]
  },
  {
   "cell_type": "code",
   "execution_count": 174,
   "metadata": {},
   "outputs": [],
   "source": [
    "candidates_df = merged_df.loc[\n",
    "    (merged_df[\"ordered\"].dt.date.isin(emily_dates))\n",
    "    & (merged_df[\"clean_desc\"].isin(emily_products))\n",
    "    & (merged_df[\"name\"] != \"Emily Randolph\")\n",
    "    & (merged_df[\"ordered\"] == merged_df[\"shipped\"]),\n",
    "    [\"name\", \"phone\", \"ordered\", \"clean_desc\", \"color\"],\n",
    "]"
   ]
  },
  {
   "cell_type": "code",
   "execution_count": 175,
   "metadata": {},
   "outputs": [
    {
     "data": {
      "text/html": [
       "<div>\n",
       "<style scoped>\n",
       "    .dataframe tbody tr th:only-of-type {\n",
       "        vertical-align: middle;\n",
       "    }\n",
       "\n",
       "    .dataframe tbody tr th {\n",
       "        vertical-align: top;\n",
       "    }\n",
       "\n",
       "    .dataframe thead th {\n",
       "        text-align: right;\n",
       "    }\n",
       "</style>\n",
       "<table border=\"1\" class=\"dataframe\">\n",
       "  <thead>\n",
       "    <tr style=\"text-align: right;\">\n",
       "      <th></th>\n",
       "      <th>name</th>\n",
       "      <th>phone</th>\n",
       "      <th>ordered</th>\n",
       "      <th>clean_desc</th>\n",
       "      <th>color</th>\n",
       "    </tr>\n",
       "  </thead>\n",
       "  <tbody>\n",
       "    <tr>\n",
       "      <th>29146</th>\n",
       "      <td>Julie Tina Hernandez</td>\n",
       "      <td>516-713-5712</td>\n",
       "      <td>2019-06-01 16:31:10</td>\n",
       "      <td>Noah's Jewelry</td>\n",
       "      <td>orange</td>\n",
       "    </tr>\n",
       "    <tr>\n",
       "      <th>48574</th>\n",
       "      <td>Frank Roach</td>\n",
       "      <td>516-520-9716</td>\n",
       "      <td>2021-04-17 12:22:55</td>\n",
       "      <td>Noah's Jewelry</td>\n",
       "      <td>yellow</td>\n",
       "    </tr>\n",
       "    <tr>\n",
       "      <th>77349</th>\n",
       "      <td>Maria Barbara Sanchez</td>\n",
       "      <td>838-599-2765</td>\n",
       "      <td>2021-04-17 13:50:31</td>\n",
       "      <td>Noah's Poster</td>\n",
       "      <td>orange</td>\n",
       "    </tr>\n",
       "    <tr>\n",
       "      <th>116192</th>\n",
       "      <td>Anita Ford</td>\n",
       "      <td>516-645-7010</td>\n",
       "      <td>2019-06-01 11:08:59</td>\n",
       "      <td>Noah's Poster</td>\n",
       "      <td>red</td>\n",
       "    </tr>\n",
       "    <tr>\n",
       "      <th>126536</th>\n",
       "      <td>Melvin Rodriguez III</td>\n",
       "      <td>914-698-1257</td>\n",
       "      <td>2019-08-18 12:47:14</td>\n",
       "      <td>Electric Toaster</td>\n",
       "      <td>mauve</td>\n",
       "    </tr>\n",
       "    <tr>\n",
       "      <th>128680</th>\n",
       "      <td>Timothy Jones</td>\n",
       "      <td>716-691-6727</td>\n",
       "      <td>2021-04-17 11:14:30</td>\n",
       "      <td>Noah's Jewelry</td>\n",
       "      <td>green</td>\n",
       "    </tr>\n",
       "    <tr>\n",
       "      <th>205603</th>\n",
       "      <td>Amy Watson</td>\n",
       "      <td>585-876-8529</td>\n",
       "      <td>2022-07-26 12:57:17</td>\n",
       "      <td>Electric Machine</td>\n",
       "      <td>amber</td>\n",
       "    </tr>\n",
       "    <tr>\n",
       "      <th>214369</th>\n",
       "      <td>Jessica Claudia Smith</td>\n",
       "      <td>838-703-5339</td>\n",
       "      <td>2017-05-28 18:01:52</td>\n",
       "      <td>Noah's Jewelry</td>\n",
       "      <td>magenta</td>\n",
       "    </tr>\n",
       "    <tr>\n",
       "      <th>283916</th>\n",
       "      <td>Kerri Black</td>\n",
       "      <td>838-589-7675</td>\n",
       "      <td>2017-05-28 11:56:51</td>\n",
       "      <td>Noah's Jewelry</td>\n",
       "      <td>blue</td>\n",
       "    </tr>\n",
       "    <tr>\n",
       "      <th>286836</th>\n",
       "      <td>Joe Conway</td>\n",
       "      <td>607-601-8847</td>\n",
       "      <td>2022-07-26 12:07:50</td>\n",
       "      <td>Manual Mixer</td>\n",
       "      <td>orange</td>\n",
       "    </tr>\n",
       "    <tr>\n",
       "      <th>306191</th>\n",
       "      <td>Jonathan Adams</td>\n",
       "      <td>315-618-5263</td>\n",
       "      <td>2019-06-01 12:50:25</td>\n",
       "      <td>Electric Machine</td>\n",
       "      <td>purple</td>\n",
       "    </tr>\n",
       "    <tr>\n",
       "      <th>325414</th>\n",
       "      <td>Tammie Hodges</td>\n",
       "      <td>585-681-8986</td>\n",
       "      <td>2019-09-09 11:19:06</td>\n",
       "      <td>Electric Crockpot</td>\n",
       "      <td>purple</td>\n",
       "    </tr>\n",
       "    <tr>\n",
       "      <th>326233</th>\n",
       "      <td>Justin Frazier</td>\n",
       "      <td>332-678-1812</td>\n",
       "      <td>2019-06-01 20:30:04</td>\n",
       "      <td>Noah's Jewelry</td>\n",
       "      <td>magenta</td>\n",
       "    </tr>\n",
       "  </tbody>\n",
       "</table>\n",
       "</div>"
      ],
      "text/plain": [
       "                         name         phone             ordered  \\\n",
       "29146    Julie Tina Hernandez  516-713-5712 2019-06-01 16:31:10   \n",
       "48574             Frank Roach  516-520-9716 2021-04-17 12:22:55   \n",
       "77349   Maria Barbara Sanchez  838-599-2765 2021-04-17 13:50:31   \n",
       "116192             Anita Ford  516-645-7010 2019-06-01 11:08:59   \n",
       "126536   Melvin Rodriguez III  914-698-1257 2019-08-18 12:47:14   \n",
       "128680          Timothy Jones  716-691-6727 2021-04-17 11:14:30   \n",
       "205603             Amy Watson  585-876-8529 2022-07-26 12:57:17   \n",
       "214369  Jessica Claudia Smith  838-703-5339 2017-05-28 18:01:52   \n",
       "283916            Kerri Black  838-589-7675 2017-05-28 11:56:51   \n",
       "286836             Joe Conway  607-601-8847 2022-07-26 12:07:50   \n",
       "306191         Jonathan Adams  315-618-5263 2019-06-01 12:50:25   \n",
       "325414          Tammie Hodges  585-681-8986 2019-09-09 11:19:06   \n",
       "326233         Justin Frazier  332-678-1812 2019-06-01 20:30:04   \n",
       "\n",
       "                clean_desc    color  \n",
       "29146      Noah's Jewelry    orange  \n",
       "48574      Noah's Jewelry    yellow  \n",
       "77349       Noah's Poster    orange  \n",
       "116192      Noah's Poster       red  \n",
       "126536   Electric Toaster     mauve  \n",
       "128680     Noah's Jewelry     green  \n",
       "205603   Electric Machine     amber  \n",
       "214369     Noah's Jewelry   magenta  \n",
       "283916     Noah's Jewelry      blue  \n",
       "286836       Manual Mixer    orange  \n",
       "306191   Electric Machine    purple  \n",
       "325414  Electric Crockpot    purple  \n",
       "326233     Noah's Jewelry   magenta  "
      ]
     },
     "execution_count": 175,
     "metadata": {},
     "output_type": "execute_result"
    }
   ],
   "source": [
    "candidates_df"
   ]
  },
  {
   "cell_type": "code",
   "execution_count": 215,
   "metadata": {},
   "outputs": [
    {
     "name": "stdout",
     "output_type": "stream",
     "text": [
      "Jonathan Adams 315-618-5263 Electric Machine  purple\n"
     ]
    }
   ],
   "source": [
    "for row in candidates_df.itertuples():\n",
    "    # check if purchase of candidate occurred within 5min of purchase of Emily\n",
    "    if ((row.ordered - emily_products_df[\"ordered\"]).dt.seconds <= 300).any():\n",
    "        if row.color != emily_product_color_map[row.clean_desc]:\n",
    "            print(row.name, row.phone, row.clean_desc, row.color)"
   ]
  }
 ],
 "metadata": {
  "kernelspec": {
   "display_name": "hanukkah-of-data-lQob2YbU-py3.10",
   "language": "python",
   "name": "python3"
  },
  "language_info": {
   "codemirror_mode": {
    "name": "ipython",
    "version": 3
   },
   "file_extension": ".py",
   "mimetype": "text/x-python",
   "name": "python",
   "nbconvert_exporter": "python",
   "pygments_lexer": "ipython3",
   "version": "3.10.4"
  },
  "orig_nbformat": 4,
  "vscode": {
   "interpreter": {
    "hash": "ec53ee0cba7468122bf9c4ab8b29b790e24bd9502907848a5f1124e6ee7c3f3e"
   }
  }
 },
 "nbformat": 4,
 "nbformat_minor": 2
}
