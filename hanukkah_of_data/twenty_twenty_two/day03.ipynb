{
 "cells": [
  {
   "attachments": {},
   "cell_type": "markdown",
   "metadata": {},
   "source": [
    "# Hannukah of Data: Day 03\n",
    "\n",
    "We are looking for the phone number of a born Aries (03-21 until 04-19) in the year of the dog (1946, 1958, 1970, 1982, 1994, 2006, 2018) and living in the same neighorhood as Jeremy Davis (the rug cleaner from puzzle 2)."
   ]
  },
  {
   "attachments": {},
   "cell_type": "markdown",
   "metadata": {},
   "source": [
    "## Setup"
   ]
  },
  {
   "cell_type": "code",
   "execution_count": 1,
   "metadata": {},
   "outputs": [],
   "source": [
    "import pandas as pd\n",
    "\n",
    "from hanukkah_of_data.utils import load_data"
   ]
  },
  {
   "cell_type": "code",
   "execution_count": 2,
   "metadata": {},
   "outputs": [
    {
     "name": "stderr",
     "output_type": "stream",
     "text": [
      "UsageError: Line magic function `%autoreload` not found.\n"
     ]
    }
   ],
   "source": [
    "%autoreload 2"
   ]
  },
  {
   "attachments": {},
   "cell_type": "markdown",
   "metadata": {},
   "source": [
    "## Load data "
   ]
  },
  {
   "cell_type": "code",
   "execution_count": 3,
   "metadata": {},
   "outputs": [],
   "source": [
    "dfs = load_data()"
   ]
  },
  {
   "attachments": {},
   "cell_type": "markdown",
   "metadata": {},
   "source": [
    "## Solve puzzle"
   ]
  },
  {
   "cell_type": "code",
   "execution_count": 4,
   "metadata": {},
   "outputs": [],
   "source": [
    "customer_df = dfs[\"customers\"]"
   ]
  },
  {
   "cell_type": "code",
   "execution_count": 19,
   "metadata": {},
   "outputs": [
    {
     "name": "stdout",
     "output_type": "stream",
     "text": [
      "<class 'pandas.core.frame.DataFrame'>\n",
      "RangeIndex: 11080 entries, 0 to 11079\n",
      "Data columns (total 6 columns):\n",
      " #   Column        Non-Null Count  Dtype         \n",
      "---  ------        --------------  -----         \n",
      " 0   customerid    11080 non-null  int64         \n",
      " 1   name          11080 non-null  string        \n",
      " 2   address       11080 non-null  string        \n",
      " 3   citystatezip  11080 non-null  string        \n",
      " 4   birthdate     11080 non-null  datetime64[ns]\n",
      " 5   phone         11080 non-null  string        \n",
      "dtypes: datetime64[ns](1), int64(1), string(4)\n",
      "memory usage: 519.5 KB\n"
     ]
    }
   ],
   "source": [
    "customer_df.info()"
   ]
  },
  {
   "cell_type": "code",
   "execution_count": 5,
   "metadata": {},
   "outputs": [
    {
     "data": {
      "text/html": [
       "<div>\n",
       "<style scoped>\n",
       "    .dataframe tbody tr th:only-of-type {\n",
       "        vertical-align: middle;\n",
       "    }\n",
       "\n",
       "    .dataframe tbody tr th {\n",
       "        vertical-align: top;\n",
       "    }\n",
       "\n",
       "    .dataframe thead th {\n",
       "        text-align: right;\n",
       "    }\n",
       "</style>\n",
       "<table border=\"1\" class=\"dataframe\">\n",
       "  <thead>\n",
       "    <tr style=\"text-align: right;\">\n",
       "      <th></th>\n",
       "      <th>customerid</th>\n",
       "      <th>name</th>\n",
       "      <th>address</th>\n",
       "      <th>citystatezip</th>\n",
       "      <th>birthdate</th>\n",
       "      <th>phone</th>\n",
       "    </tr>\n",
       "  </thead>\n",
       "  <tbody>\n",
       "    <tr>\n",
       "      <th>0</th>\n",
       "      <td>1001</td>\n",
       "      <td>Jack Quinn</td>\n",
       "      <td>201 E Park St</td>\n",
       "      <td>Los Angeles, CA 91343</td>\n",
       "      <td>1960-05-14</td>\n",
       "      <td>805-287-8515</td>\n",
       "    </tr>\n",
       "    <tr>\n",
       "      <th>1</th>\n",
       "      <td>1002</td>\n",
       "      <td>David Powell</td>\n",
       "      <td>224C Tysens Ln</td>\n",
       "      <td>Staten Island, NY 10306</td>\n",
       "      <td>1978-04-04</td>\n",
       "      <td>516-768-1652</td>\n",
       "    </tr>\n",
       "    <tr>\n",
       "      <th>2</th>\n",
       "      <td>1003</td>\n",
       "      <td>Carrie Green</td>\n",
       "      <td>1608 W 53rd Way</td>\n",
       "      <td>Tampa, FL 33614</td>\n",
       "      <td>1969-01-21</td>\n",
       "      <td>727-209-0470</td>\n",
       "    </tr>\n",
       "    <tr>\n",
       "      <th>3</th>\n",
       "      <td>1004</td>\n",
       "      <td>Steven Miller</td>\n",
       "      <td>178½ E 7th St</td>\n",
       "      <td>Manhattan, NY 10009</td>\n",
       "      <td>1953-08-17</td>\n",
       "      <td>607-941-9563</td>\n",
       "    </tr>\n",
       "    <tr>\n",
       "      <th>4</th>\n",
       "      <td>1005</td>\n",
       "      <td>Christine Powers</td>\n",
       "      <td>270 W 242nd St</td>\n",
       "      <td>Bronx, NY 10463</td>\n",
       "      <td>1983-06-06</td>\n",
       "      <td>212-759-9043</td>\n",
       "    </tr>\n",
       "  </tbody>\n",
       "</table>\n",
       "</div>"
      ],
      "text/plain": [
       "   customerid              name          address             citystatezip  \\\n",
       "0        1001        Jack Quinn    201 E Park St    Los Angeles, CA 91343   \n",
       "1        1002      David Powell   224C Tysens Ln  Staten Island, NY 10306   \n",
       "2        1003      Carrie Green  1608 W 53rd Way          Tampa, FL 33614   \n",
       "3        1004     Steven Miller    178½ E 7th St      Manhattan, NY 10009   \n",
       "4        1005  Christine Powers   270 W 242nd St          Bronx, NY 10463   \n",
       "\n",
       "   birthdate         phone  \n",
       "0 1960-05-14  805-287-8515  \n",
       "1 1978-04-04  516-768-1652  \n",
       "2 1969-01-21  727-209-0470  \n",
       "3 1953-08-17  607-941-9563  \n",
       "4 1983-06-06  212-759-9043  "
      ]
     },
     "execution_count": 5,
     "metadata": {},
     "output_type": "execute_result"
    }
   ],
   "source": [
    "customer_df.head()"
   ]
  },
  {
   "cell_type": "code",
   "execution_count": 7,
   "metadata": {},
   "outputs": [
    {
     "name": "stderr",
     "output_type": "stream",
     "text": [
      "/tmp/ipykernel_6369/420315242.py:1: FutureWarning: Treating datetime data as categorical rather than numeric in `.describe` is deprecated and will be removed in a future version of pandas. Specify `datetime_is_numeric=True` to silence this warning and adopt the future behavior now.\n",
      "  customer_df.birthdate.describe()\n"
     ]
    },
    {
     "data": {
      "text/plain": [
       "count                   11080\n",
       "unique                   8675\n",
       "top       1953-01-12 00:00:00\n",
       "freq                        5\n",
       "first     1935-02-14 00:00:00\n",
       "last      2000-12-30 00:00:00\n",
       "Name: birthdate, dtype: object"
      ]
     },
     "execution_count": 7,
     "metadata": {},
     "output_type": "execute_result"
    }
   ],
   "source": [
    "customer_df.birthdate.describe()"
   ]
  },
  {
   "cell_type": "code",
   "execution_count": 9,
   "metadata": {},
   "outputs": [],
   "source": [
    "DOG_YEARS = [i for i in range(1946, 2018 + 1, 12)]"
   ]
  },
  {
   "cell_type": "code",
   "execution_count": 110,
   "metadata": {},
   "outputs": [],
   "source": [
    "candidates_df = customer_df.loc[\n",
    "    (\n",
    "        (customer_df[\"birthdate\"].dt.year.isin(DOG_YEARS))\n",
    "        & (\n",
    "            (customer_df[\"birthdate\"].dt.month == 3)\n",
    "            & (customer_df[\"birthdate\"].dt.day.between(21, 31))\n",
    "            | (customer_df[\"birthdate\"].dt.month == 4)\n",
    "            & (customer_df[\"birthdate\"].dt.day.between(1, 19))\n",
    "        )\n",
    "    ),\n",
    "]"
   ]
  },
  {
   "cell_type": "code",
   "execution_count": 111,
   "metadata": {},
   "outputs": [
    {
     "name": "stdout",
     "output_type": "stream",
     "text": [
      "<class 'pandas.core.frame.DataFrame'>\n",
      "Int64Index: 81 entries, 77 to 10951\n",
      "Data columns (total 6 columns):\n",
      " #   Column        Non-Null Count  Dtype         \n",
      "---  ------        --------------  -----         \n",
      " 0   customerid    81 non-null     int64         \n",
      " 1   name          81 non-null     string        \n",
      " 2   address       81 non-null     string        \n",
      " 3   citystatezip  81 non-null     string        \n",
      " 4   birthdate     81 non-null     datetime64[ns]\n",
      " 5   phone         81 non-null     string        \n",
      "dtypes: datetime64[ns](1), int64(1), string(4)\n",
      "memory usage: 4.4 KB\n"
     ]
    }
   ],
   "source": [
    "candidates_df.info()"
   ]
  },
  {
   "cell_type": "code",
   "execution_count": 112,
   "metadata": {},
   "outputs": [
    {
     "data": {
      "text/html": [
       "<div>\n",
       "<style scoped>\n",
       "    .dataframe tbody tr th:only-of-type {\n",
       "        vertical-align: middle;\n",
       "    }\n",
       "\n",
       "    .dataframe tbody tr th {\n",
       "        vertical-align: top;\n",
       "    }\n",
       "\n",
       "    .dataframe thead th {\n",
       "        text-align: right;\n",
       "    }\n",
       "</style>\n",
       "<table border=\"1\" class=\"dataframe\">\n",
       "  <thead>\n",
       "    <tr style=\"text-align: right;\">\n",
       "      <th></th>\n",
       "      <th>customerid</th>\n",
       "      <th>name</th>\n",
       "      <th>address</th>\n",
       "      <th>citystatezip</th>\n",
       "      <th>birthdate</th>\n",
       "      <th>phone</th>\n",
       "    </tr>\n",
       "  </thead>\n",
       "  <tbody>\n",
       "    <tr>\n",
       "      <th>3163</th>\n",
       "      <td>4164</td>\n",
       "      <td>Jeremy Davis</td>\n",
       "      <td>134-10 Foch Blvd</td>\n",
       "      <td>South Ozone Park, NY 11420</td>\n",
       "      <td>1995-07-26</td>\n",
       "      <td>212-771-8924</td>\n",
       "    </tr>\n",
       "  </tbody>\n",
       "</table>\n",
       "</div>"
      ],
      "text/plain": [
       "      customerid          name           address                citystatezip  \\\n",
       "3163        4164  Jeremy Davis  134-10 Foch Blvd  South Ozone Park, NY 11420   \n",
       "\n",
       "      birthdate         phone  \n",
       "3163 1995-07-26  212-771-8924  "
      ]
     },
     "execution_count": 112,
     "metadata": {},
     "output_type": "execute_result"
    }
   ],
   "source": [
    "customer_df.loc[customer_df[\"name\"] == \"Jeremy Davis\"]"
   ]
  },
  {
   "cell_type": "code",
   "execution_count": 113,
   "metadata": {},
   "outputs": [
    {
     "data": {
      "text/html": [
       "<div>\n",
       "<style scoped>\n",
       "    .dataframe tbody tr th:only-of-type {\n",
       "        vertical-align: middle;\n",
       "    }\n",
       "\n",
       "    .dataframe tbody tr th {\n",
       "        vertical-align: top;\n",
       "    }\n",
       "\n",
       "    .dataframe thead th {\n",
       "        text-align: right;\n",
       "    }\n",
       "</style>\n",
       "<table border=\"1\" class=\"dataframe\">\n",
       "  <thead>\n",
       "    <tr style=\"text-align: right;\">\n",
       "      <th></th>\n",
       "      <th>customerid</th>\n",
       "      <th>name</th>\n",
       "      <th>address</th>\n",
       "      <th>citystatezip</th>\n",
       "      <th>birthdate</th>\n",
       "      <th>phone</th>\n",
       "    </tr>\n",
       "  </thead>\n",
       "  <tbody>\n",
       "    <tr>\n",
       "      <th>1273</th>\n",
       "      <td>2274</td>\n",
       "      <td>Brent Nguyen</td>\n",
       "      <td>109-19 110th St</td>\n",
       "      <td>South Ozone Park, NY 11420</td>\n",
       "      <td>1958-03-25</td>\n",
       "      <td>516-636-7397</td>\n",
       "    </tr>\n",
       "  </tbody>\n",
       "</table>\n",
       "</div>"
      ],
      "text/plain": [
       "      customerid          name          address                citystatezip  \\\n",
       "1273        2274  Brent Nguyen  109-19 110th St  South Ozone Park, NY 11420   \n",
       "\n",
       "      birthdate         phone  \n",
       "1273 1958-03-25  516-636-7397  "
      ]
     },
     "execution_count": 113,
     "metadata": {},
     "output_type": "execute_result"
    }
   ],
   "source": [
    "candidates_df.loc[candidates_df[\"citystatezip\"] == \"South Ozone Park, NY 11420\"]"
   ]
  }
 ],
 "metadata": {
  "kernelspec": {
   "display_name": "hanukkah-of-data-lQob2YbU-py3.10",
   "language": "python",
   "name": "python3"
  },
  "language_info": {
   "codemirror_mode": {
    "name": "ipython",
    "version": 3
   },
   "file_extension": ".py",
   "mimetype": "text/x-python",
   "name": "python",
   "nbconvert_exporter": "python",
   "pygments_lexer": "ipython3",
   "version": "3.10.4"
  },
  "orig_nbformat": 4,
  "vscode": {
   "interpreter": {
    "hash": "ec53ee0cba7468122bf9c4ab8b29b790e24bd9502907848a5f1124e6ee7c3f3e"
   }
  }
 },
 "nbformat": 4,
 "nbformat_minor": 2
}
